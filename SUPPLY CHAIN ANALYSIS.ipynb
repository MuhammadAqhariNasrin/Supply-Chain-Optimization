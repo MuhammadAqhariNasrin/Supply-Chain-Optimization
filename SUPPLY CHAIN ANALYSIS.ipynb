{
 "cells": [
  {
   "cell_type": "markdown",
   "id": "92caa24f",
   "metadata": {},
   "source": [
    "<span style=\"font-size: 24px; color: blue; font-weight: bold;\">**PROJECT:** **SUPPLY CHAIN OPTIMIZATION**</span>\n",
    "\n"
   ]
  },
  {
   "cell_type": "markdown",
   "id": "4d9afbd2",
   "metadata": {},
   "source": [
    "**AUTHOR**       **:** Muhammad Aqhari Nasrin Bin Ramli\n",
    "\n",
    "**E-mail**       **:** muhammad.aqhari.nasrin@gmail.com\n",
    "\n",
    "**LinkedIn**     **:** [Muhammad Aqhari Nasrin Bin Ramli](https://www.linkedin.com/in/muhammad-aqhari-nasrin-bin-ramli/)\n",
    "\n",
    "**DATA SOURCE**  **:** [Data Set](https://statso.io/supply-chain-analysis-case-study/)"
   ]
  },
  {
   "cell_type": "markdown",
   "id": "8a0ab67d",
   "metadata": {},
   "source": [
    "# SUPPLY CHAIN DEFINITION"
   ]
  },
  {
   "cell_type": "markdown",
   "id": "6d4903e6",
   "metadata": {},
   "source": [
    "![SUPPLY CHAIN FLOWCHART](logistics-supply-chain.png)\n"
   ]
  },
  {
   "cell_type": "markdown",
   "id": "34af61ae",
   "metadata": {},
   "source": [
    "A supply chain refers to the intricate web of production and logistical processes that come into play when creating and distributing goods to customers. Supply chain analysis, on the other hand, involves the examination and evaluation of different facets within this supply chain network, with the aim of identifying opportunities to enhance its efficiency and ultimately generate increased value for customers.\n"
   ]
  },
  {
   "cell_type": "markdown",
   "id": "9de1d4c8",
   "metadata": {},
   "source": [
    "# OBJECTIVE"
   ]
  },
  {
   "cell_type": "markdown",
   "id": "3ae892f0",
   "metadata": {},
   "source": [
    "To enhance supply chain efficiency by applying advanced data analytics and machine learning techniques. Specifically, we aim to optimize key supply chain processes while concurrently developing a Supplier Score model to evaluate and rank suppliers."
   ]
  },
  {
   "cell_type": "markdown",
   "id": "db29e942",
   "metadata": {},
   "source": [
    "# IMPORT LIBRARIES"
   ]
  },
  {
   "cell_type": "code",
   "execution_count": null,
   "id": "fe105755",
   "metadata": {},
   "outputs": [],
   "source": [
    "import pandas as pd\n",
    "import numpy as np\n",
    "import seaborn as sns \n",
    "import matplotlib.pyplot as plt\n",
    "from tabulate import tabulate\n",
    "import statsmodels.stats.api as sms\n",
    "import scipy.stats as stats\n",
    "from scipy.stats import skew\n",
    "import plotly.express as px\n",
    "from sklearn.preprocessing import LabelEncoder\n",
    "%matplotlib inline \n",
    "from sklearn.preprocessing import StandardScaler\n",
    "\n",
    "import warnings\n",
    "warnings.filterwarnings(\"ignore\")\n",
    "\n",
    "# MACHINE LEARNING\n",
    "from sklearn.model_selection import train_test_split\n",
    "from sklearn.linear_model import (LinearRegression, LassoLars, ElasticNet, Ridge, BayesianRidge, \n",
    "                                  HuberRegressor, SGDRegressor, ElasticNetCV, LassoCV, \n",
    "                                  OrthogonalMatchingPursuit, OrthogonalMatchingPursuitCV, \n",
    "                                  LassoLarsCV, LarsCV, Lars, RidgeCV, PassiveAggressiveRegressor)\n",
    "from sklearn.tree import DecisionTreeRegressor, ExtraTreeRegressor\n",
    "from sklearn.svm import SVR, NuSVR, LinearSVR\n",
    "from sklearn.neighbors import KNeighborsRegressor\n",
    "from sklearn.gaussian_process import GaussianProcessRegressor\n",
    "from sklearn.kernel_ridge import KernelRidge\n",
    "from sklearn.neural_network import MLPRegressor\n",
    "from sklearn.dummy import DummyRegressor\n",
    "from sklearn.metrics import mean_absolute_error, mean_squared_error, r2_score, mean_absolute_percentage_error, max_error\n",
    "from sklearn.ensemble import (RandomForestRegressor, AdaBoostRegressor, BaggingRegressor,\n",
    "                            GradientBoostingRegressor, ExtraTreesRegressor, HistGradientBoostingRegressor)\n",
    "from sklearn.compose import TransformedTargetRegressor\n",
    "from xgboost import XGBRegressor\n",
    "from lightgbm import LGBMRegressor"
   ]
  },
  {
   "cell_type": "markdown",
   "id": "0ab866ab",
   "metadata": {},
   "source": [
    "# LOADING THE DATA"
   ]
  },
  {
   "cell_type": "code",
   "execution_count": null,
   "id": "31216471",
   "metadata": {
    "scrolled": false
   },
   "outputs": [],
   "source": [
    "data = pd.read_csv(\"supply_chain_data.csv\")\n",
    "\n",
    "pd.set_option('display.max_rows', None)\n",
    "pd.set_option('display.max_columns', None)\n",
    "pd.set_option('display.width', None)\n",
    "\n",
    "# Display the entire DataFrame\n",
    "data.head(10)"
   ]
  },
  {
   "cell_type": "code",
   "execution_count": null,
   "id": "ff0236b5",
   "metadata": {
    "scrolled": false
   },
   "outputs": [],
   "source": [
    "data.tail(10)"
   ]
  },
  {
   "cell_type": "markdown",
   "id": "682d671b",
   "metadata": {},
   "source": [
    "| Column               | Explanation                                                                                                            |\n",
    "|:----------------------|:-----------------------------------------------------------------------------------------------------------------------|\n",
    "| Product Type         | The type of product                                                                                                   |\n",
    "| SKU                  | Stock Keeping Unit means a unique code or number used to keep track of products in a store or warehouse. It helps with organizing inventory and making sure the right products are in the right place. |\n",
    "| Price                | The price of the products                                                                                            |\n",
    "| Availability         | The quality of being at hand when needed / a retailer's ability to meet customer demand at a given item               |\n",
    "| Number of Products Sold | Sales of the product                                                                                            |\n",
    "| Revenue Generated    | The total income or money earned by a company or business through the sale of goods or services as they move through the various stages of the supply chain |\n",
    "| Customer Demographics | Gender of the Customer                                                                                               |\n",
    "| Stock Levels         | How much stuff left in store  to sell.                                                                         |\n",
    "| Lead Times           | The time elapsed between placing an order for a product or service and receiving or obtaining it. For example, if you order a product online and it takes three days for it to be delivered to your doorstep, the lead time for that product is three days. Lead times refer to the overall time it takes for a process to be completed, from the initiation to its fulfillment. This includes not only the shipping time but also other steps in the process, such as order processing, manufacturing or production, and any other preparation required before the shipment can be sent out. |\n",
    "| Order Quantities     | The number of items or products a business decides to purchase or produce in a single order.                           |\n",
    "| Shipping Times       | It is the duration between the shipment leaving the sender's location and arriving at the recipient's location         |\n",
    "| Shipping Carriers    | A company or organization that provides transportation services for moving goods, packages, or cargo from one location to another. Some well-known shipping carriers include FedEx, UPS, DHL, USPS (United States Postal Service), and many others. |\n",
    "| Shipping Cost        | Refers to the amount of money a customer or business needs to pay to have a package or goods transported from one location to another. The shipping cost can vary depending on several factors including distance, weight and size, shipping method, carrier, location, additional service (insurance, tracking, or signature confirmation) |\n",
    "| Supplier Name        | The name of the company or organization that provides things like products or services to another company.              |\n",
    "| Location             | Location could refer to the physical location of products, warehouses, or stores                                      |\n",
    "| Lead Time (Supplier) | This is the lead time specifically related to the time it takes for the supplier to deliver products after an order is placed. |\n",
    "| Production Volumes   | This column might provide information about the quantity of products that are manufactured or produced.                 |\n",
    "| Manufacturing Lead Time | Similar to supplier lead time, this is the time it takes for a product to be manufactured after an order is placed.    |\n",
    "| Manufacturing Costs  | These are the costs associated with the production or manufacturing of the products.                                 |\n",
    "| Inspection Results   | This column may contain data related to quality control or inspections of products, including pass/fail results or inspection notes. |\n",
    "| Defect Rates         | Defect rates indicate the percentage of products that have manufacturing defects or quality issues.                   |\n",
    "| Transportation Modes | This column could list the various modes of transportation used to move products, such as road, air, sea, or rail.      |\n",
    "| Routes               | Routes might specify the specific transportation routes or paths taken by products when they are shipped.           |\n",
    "| Costs                | This could be a general cost column that encompasses various expenses associated with products, such as manufacturing costs, shipping costs, and more. |\n"
   ]
  },
  {
   "cell_type": "markdown",
   "id": "719e1dad",
   "metadata": {},
   "source": [
    "# CHANGE THE NAME OF THE COLUMN"
   ]
  },
  {
   "cell_type": "markdown",
   "id": "4fa53656",
   "metadata": {},
   "source": [
    "To make the name of columns more python friendly"
   ]
  },
  {
   "cell_type": "markdown",
   "id": "6e01e409",
   "metadata": {},
   "source": [
    "['Product type', 'SKU', 'Price', 'Availability',\n",
    "       'Number of products sold', 'Revenue generated', 'Customer demographics',\n",
    "       'Stock levels', 'Lead times', 'Order quantities', 'Shipping times',\n",
    "       'Shipping carriers', 'Shipping costs', 'Supplier name', 'Location',\n",
    "       'Lead time', 'Production volumes', 'Manufacturing lead time',\n",
    "       'Manufacturing costs', 'Inspection results', 'Defect rates',\n",
    "       'Transportation modes', 'Routes', 'Costs'],\n",
    "      dtype='object'"
   ]
  },
  {
   "cell_type": "code",
   "execution_count": null,
   "id": "d695394c",
   "metadata": {},
   "outputs": [],
   "source": [
    "data = data.rename(columns={\n",
    "    'Product type': 'product_type',\n",
    "    'SKU': 'sku',\n",
    "    'Price' : 'price',\n",
    "    'Availability': 'availability',\n",
    "    'Number of products sold': 'num_products_sold',\n",
    "    'Revenue generated': 'revenue_generated',\n",
    "    'Customer demographics': 'customer_demographics',\n",
    "    'Stock levels': 'stock_levels',\n",
    "    'Lead times': 'lead_times',\n",
    "    'Order quantities': 'order_quantities',\n",
    "    'Shipping times':'shipping_times',\n",
    "    'Shipping carriers': 'shipping_carriers',\n",
    "    'Shipping costs':'shipping_costs',\n",
    "    'Supplier name':'supplier_name',\n",
    "    'Location':'location',\n",
    "    'Lead time':'lead_time',\n",
    "    'Production volumes': 'production_volumes',\n",
    "    'Manufacturing lead time':'manufacturing_lead_time',\n",
    "    'Manufacturing costs': 'manufacturing_costs',\n",
    "    'Inspection results':'inspection_results',\n",
    "    'Defect rates':'defect_rates',\n",
    "    'Transportation modes':'transportation_modes',\n",
    "    'Routes':'routes',\n",
    "    'Costs':'costs'\n",
    "    \n",
    "    \n",
    "    \n",
    "    \n",
    "})\n"
   ]
  },
  {
   "cell_type": "code",
   "execution_count": null,
   "id": "ffd4b5be",
   "metadata": {},
   "outputs": [],
   "source": [
    "data.head(5)"
   ]
  },
  {
   "cell_type": "code",
   "execution_count": null,
   "id": "901bd1a1",
   "metadata": {},
   "outputs": [],
   "source": [
    "data.columns"
   ]
  },
  {
   "cell_type": "markdown",
   "id": "991a78f4",
   "metadata": {},
   "source": [
    "# EXPLORATORY DATA ANALYSIS"
   ]
  },
  {
   "cell_type": "markdown",
   "id": "c3e8515f",
   "metadata": {},
   "source": [
    "**SHAPE OF DATA**"
   ]
  },
  {
   "cell_type": "code",
   "execution_count": null,
   "id": "efcdf75a",
   "metadata": {},
   "outputs": [],
   "source": [
    "\n",
    "\n",
    "\n",
    "num_rows = data.shape[0]\n",
    "num_columns = data.shape[1]\n",
    "\n",
    "\n",
    "table_data = [\n",
    "    [\"Number of rows:\", num_rows],\n",
    "    [\"Number of columns:\", num_columns]\n",
    "]\n",
    "\n",
    "\n",
    "table = tabulate(table_data, headers=['Description', 'Count'], tablefmt='fancy_grid')\n",
    "\n",
    "\n",
    "print(table)\n"
   ]
  },
  {
   "cell_type": "markdown",
   "id": "3eaab3f5",
   "metadata": {},
   "source": [
    "**INFO OF COLUMNS**"
   ]
  },
  {
   "cell_type": "code",
   "execution_count": null,
   "id": "217f6d3d",
   "metadata": {
    "scrolled": false
   },
   "outputs": [],
   "source": [
    "info_df = pd.DataFrame({\n",
    "    'Column': data.columns,\n",
    "    'Non-Null Count': data.count().values,\n",
    "    'NaN Count': data.isnull().sum().values,  # Add a comma here\n",
    "    'Dtype': data.dtypes.values\n",
    "})\n",
    "\n",
    "print(tabulate(info_df, headers='keys', tablefmt='fancy_grid'))"
   ]
  },
  {
   "cell_type": "markdown",
   "id": "5953a571",
   "metadata": {},
   "source": [
    "**DATA TYPES**"
   ]
  },
  {
   "cell_type": "code",
   "execution_count": null,
   "id": "13c898dd",
   "metadata": {},
   "outputs": [],
   "source": [
    "data_types = data.dtypes\n",
    "\n",
    "# Count the number of columns with each data type\n",
    "data_type_counts = data_types.value_counts().reset_index()\n",
    "data_type_counts.columns = ['Data Type', 'Count']\n",
    "\n",
    "# Display the counts in a tabulated table format\n",
    "print(tabulate(data_type_counts, headers='keys', tablefmt='fancy_grid'))"
   ]
  },
  {
   "cell_type": "markdown",
   "id": "ff121ade",
   "metadata": {},
   "source": [
    "**Summary Statistics**"
   ]
  },
  {
   "cell_type": "code",
   "execution_count": null,
   "id": "76b84aad",
   "metadata": {},
   "outputs": [],
   "source": [
    "summary_stats = data.describe().round(2)  # Control the number of decimal places\n",
    "\n",
    "# Use pandas styling to format the output with two decimal places\n",
    "styled_summary = summary_stats.style.set_table_styles([\n",
    "    {'selector': '',\n",
    "     'props': [('border', '1px solid black')]},\n",
    "    {'selector': 'th',\n",
    "     'props': [('background-color', 'lightgray')]},\n",
    "    {'selector': 'td',\n",
    "     'props': [('text-align', 'right')]}\n",
    "]).format('{:.2f}')  # Format values to two decimal places\n",
    "\n",
    "# Display the styled summary statistics\n",
    "styled_summary"
   ]
  },
  {
   "cell_type": "markdown",
   "id": "b725a428",
   "metadata": {},
   "source": [
    " **BOXPLOT TO CHECK OUTLIER**"
   ]
  },
  {
   "cell_type": "code",
   "execution_count": null,
   "id": "ec2cb2e5",
   "metadata": {},
   "outputs": [],
   "source": [
    "data.columns"
   ]
  },
  {
   "cell_type": "code",
   "execution_count": null,
   "id": "725dc9a9",
   "metadata": {
    "scrolled": false
   },
   "outputs": [],
   "source": [
    "columns_to_plot = [\n",
    "    'product_type', 'sku', 'price', 'availability', 'num_products_sold',\n",
    "       'revenue_generated', 'customer_demographics', 'stock_levels',\n",
    "       'lead_times', 'order_quantities', 'shipping_times', 'shipping_carriers',\n",
    "       'shipping_costs', 'supplier_name', 'location', 'lead_time',\n",
    "       'production_volumes', 'manufacturing_lead_time', 'manufacturing_costs',\n",
    "       'inspection_results', 'defect_rates', 'transportation_modes', 'routes',\n",
    "       'costs'\n",
    "]\n",
    "\n",
    "\n",
    "skewness_and_outliers = pd.DataFrame(columns=['Column', 'Skewness', 'Outliers'])\n",
    "\n",
    "\n",
    "def count_outliers(column_data, threshold=1.5):\n",
    "    Q1 = column_data.quantile(0.25)\n",
    "    Q3 = column_data.quantile(0.75)\n",
    "    IQR = Q3 - Q1\n",
    "    lower_bound = Q1 - threshold * IQR\n",
    "    upper_bound = Q3 + threshold * IQR\n",
    "    return len(column_data[(column_data < lower_bound) | (column_data > upper_bound)])\n",
    "\n",
    "\n",
    "for column in columns_to_plot:\n",
    "    try:\n",
    "        plt.figure(figsize=(8, 6))\n",
    "        sns.boxplot(x=column, data=data)\n",
    "        plt.title(f'Box Plot for {column}')\n",
    "        plt.xlabel(column)\n",
    "        plt.show()\n",
    "\n",
    "        \n",
    "        skew_val = skew(data[column])\n",
    "\n",
    "        \n",
    "        num_outliers = count_outliers(data[column])\n",
    "\n",
    "        \n",
    "        skewness_and_outliers = skewness_and_outliers.append({'Column': column, 'Skewness': skew_val, 'Outliers': num_outliers}, ignore_index=True)\n",
    "    except TypeError:\n",
    "        print(f\"Skipping '{column}' because it contains non-numeric data.\")\n",
    "\n",
    "\n",
    "print(skewness_and_outliers)\n"
   ]
  },
  {
   "cell_type": "markdown",
   "id": "b4ba4cd1",
   "metadata": {},
   "source": [
    "\n",
    "\n",
    "Skewness measures the asymmetry of a probability distribution. There are three common types of skewness:\n",
    "\n",
    "- **Positive Skewness (Right Skew):** In a positively skewed distribution, the tail on the right-hand side (greater values) is longer or fatter than the left-hand side (smaller values). The mean is typically greater than the median.\n",
    "\n",
    "![Positive Skewness](https://upload.wikimedia.org/wikipedia/commons/thumb/f/f8/Negative_and_positive_skew_diagrams_%28English%29.svg/500px-Negative_and_positive_skew_diagrams_%28English%29.svg.png)\n",
    "\n",
    "- **Negative Skewness (Left Skew):** In a negatively skewed distribution, the tail on the left-hand side (smaller values) is longer or fatter than the right-hand side (greater values). The mean is typically less than the median.\n",
    "\n",
    "![Negative Skewness](https://upload.wikimedia.org/wikipedia/commons/thumb/c/cc/Positive_and_negative_skew_diagrams_%28annotated%29.png/400px-Positive_and_negative_skew_diagrams_%28annotated%29.png)\n",
    "\n",
    "- **Zero Skewness:** A perfectly symmetric distribution has zero skewness, meaning the data is evenly distributed around the mean, and the tails on both sides are of equal length.\n"
   ]
  },
  {
   "cell_type": "markdown",
   "id": "062e3194",
   "metadata": {},
   "source": [
    "\n",
    "\n",
    "Outliers are data points that deviate significantly from the majority of the data in a dataset. They can be exceptionally high or low values compared to the rest of the data. Outliers can be genuine data points with valuable information or errors in data collection.\n",
    "\n",
    "Interpreting Outliers:\n",
    "- Outliers can indicate unusual or rare events in data.\n",
    "- They may highlight errors in data collection or data entry.\n",
    "- Outliers can influence summary statistics such as the mean and standard deviation, potentially leading to biased estimates.\n",
    "- When building predictive models, it's important to consider whether to include or remove outliers based on domain knowledge and the impact they have on the model's performance.\n"
   ]
  },
  {
   "cell_type": "markdown",
   "id": "359bcf9f",
   "metadata": {},
   "source": [
    "The table below summarizes the skewness and outlier analysis for each column in the dataset:\n",
    "\n",
    "|      Column             | Skewness   | Outliers |\n",
    "|-------------------------|------------|----------|\n",
    "| Price                   | -0.022199  | 0        |\n",
    "| Availability            | 0.180852   | 0        |\n",
    "| Number of products sold | 0.277179   | 0        |\n",
    "| Revenue generated       | -0.171211  | 0        |\n",
    "| Stock levels            | 0.100063   | 0        |\n",
    "| Lead times              | -0.127883  | 0        |\n",
    "| Order quantities        | -0.105756  | 0        |\n",
    "| Shipping times          | -0.277348  | 0        |\n",
    "| Shipping costs          | -0.052929  | 0        |\n",
    "| Lead time               | -0.321292  | 0        |\n",
    "| Production volumes      | -0.075394  | 0        |\n",
    "| Manufacturing lead time | 0.182211   | 0        |\n",
    "| Manufacturing costs     | 0.188613   | 0        |\n",
    "| Defect rates            | 0.127691   | 0        |\n",
    "| Costs                   | 0.03954    | 0        |\n",
    "\n",
    "Findings:\n",
    "\n",
    "- Most columns exhibit skewness values close to 0, suggesting relatively symmetric data distributions with no strong skewness.\n",
    "\n",
    "- A few columns have slight positive skewness, indicating that the right tails of their distributions are slightly longer or fatter than the left tails. However, the skewness values are relatively small, signifying only mild skewness.\n",
    "\n",
    "- 'Lead time' has the most negative skewness, indicating a slight left skew, with the left tail slightly longer or fatter than the right tail.\n",
    "\n",
    "- According to the IQR (Interquartile Range) method, no outliers were detected in any of the columns.\n",
    "\n",
    "These findings suggest that the dataset's columns are generally well-behaved, with no significant skewness or outliers based on the IQR method. \n"
   ]
  },
  {
   "cell_type": "markdown",
   "id": "f788715b",
   "metadata": {},
   "source": [
    "**CORRELATION ANALYSIS**"
   ]
  },
  {
   "cell_type": "code",
   "execution_count": null,
   "id": "283634a9",
   "metadata": {
    "scrolled": false
   },
   "outputs": [],
   "source": [
    "\n",
    "\n",
    "\n",
    "plt.figure(figsize=(12, 8))\n",
    "sns.heatmap(data.corr(), annot=True, cmap='coolwarm', fmt=\".2f\")\n",
    "plt.title('Correlation Heatmap')\n",
    "\n",
    "\n",
    "plt.show()\n",
    "\n",
    "\n",
    "correlation_matrix = data.corr()\n",
    "\n",
    "\n",
    "positive_threshold = 0.5\n",
    "negative_threshold = -0.5\n",
    "\n",
    "\n",
    "positive_correlations = []\n",
    "negative_correlations = []\n",
    "weak_correlations = []\n",
    "\n",
    "\n",
    "for i in range(len(correlation_matrix.columns)):\n",
    "    for j in range(i + 1, len(correlation_matrix.columns)):\n",
    "        correlation = correlation_matrix.iloc[i, j]\n",
    "        column1 = correlation_matrix.columns[i]\n",
    "        column2 = correlation_matrix.columns[j]\n",
    "\n",
    "        if correlation > positive_threshold:\n",
    "            positive_correlations.append((column1, column2, correlation))\n",
    "        elif correlation < negative_threshold:\n",
    "            negative_correlations.append((column1, column2, correlation))\n",
    "        else:\n",
    "            weak_correlations.append((column1, column2, correlation))\n",
    "\n",
    "\n",
    "positive_table = tabulate(positive_correlations, headers=['Column 1', 'Column 2', 'Correlation'], tablefmt='fancy_grid')\n",
    "negative_table = tabulate(negative_correlations, headers=['Column 1', 'Column 2', 'Correlation'], tablefmt='fancy_grid')\n",
    "weak_table = tabulate(weak_correlations, headers=['Column 1', 'Column 2', 'Correlation'], tablefmt='fancy_grid')\n",
    "\n",
    "\n",
    "print(\"\\nPairs with Positive Correlation:\")\n",
    "print(positive_table)\n",
    "print(\"\\nPairs with Negative Correlation:\")\n",
    "print(negative_table)\n",
    "print(\"\\nPairs with Weak Correlation:\")\n",
    "print(weak_table)\n"
   ]
  },
  {
   "cell_type": "markdown",
   "id": "bbbb465c",
   "metadata": {},
   "source": [
    "- **Positive Correlations**: Positive correlations are shown in warmer colors (closer to 1.0). These indicate that when one variable increases, the other tends to increase as well.\n",
    "\n",
    "- **Negative Correlations**: Negative correlations are shown in cooler colors (closer to -1.0). These indicate that when one variable increases, the other tends to decrease.\n",
    "\n",
    "- **Weak Correlations**: Values closer to 0.0 suggest weak or no linear correlation between variables.\n"
   ]
  },
  {
   "cell_type": "markdown",
   "id": "3e1cbae2",
   "metadata": {},
   "source": [
    "**HISTOGRAM  for Numeric Variables**"
   ]
  },
  {
   "cell_type": "code",
   "execution_count": null,
   "id": "5e7858dd",
   "metadata": {
    "scrolled": false
   },
   "outputs": [],
   "source": [
    "numeric_vars = ['price', 'num_products_sold', 'revenue_generated']\n",
    "for var in numeric_vars:\n",
    "    plt.figure(figsize=(8, 4))\n",
    "    sns.histplot(data[var], kde=True)\n",
    "    plt.title(f'Distribution of {var}')\n",
    "    plt.xlabel(var)\n",
    "    plt.ylabel('Frequency')\n",
    "    plt.show()\n"
   ]
  },
  {
   "cell_type": "markdown",
   "id": "acb7edf6",
   "metadata": {},
   "source": [
    "FINDINGS:\n",
    "\n",
    "It seems the histogram are not normally distributed. It may due to not enough number of data."
   ]
  },
  {
   "cell_type": "markdown",
   "id": "021314c7",
   "metadata": {},
   "source": [
    "**The central limit theorem (CLT)** states that the distribution of sample means approximates a normal distribution as the sample size gets larger, regardless of the population's distribution"
   ]
  },
  {
   "cell_type": "markdown",
   "id": "9e52a702",
   "metadata": {},
   "source": [
    "**POWER ANALYSIS**"
   ]
  },
  {
   "cell_type": "markdown",
   "id": "8a61d60b",
   "metadata": {},
   "source": [
    "The concept of statistical power is more associated with sample size, the power of the study increases with an increase in sample size. Ideally, minimum power of a study required is 80%. Hence, the sample size calculation is critical and fundamental for designing a study protocol"
   ]
  },
  {
   "cell_type": "code",
   "execution_count": null,
   "id": "56c8ca3d",
   "metadata": {},
   "outputs": [],
   "source": [
    "\n",
    "\n",
    "\n",
    "\n",
    "effect_size = 0.5  # Desired effect size\n",
    "alpha = 0.05       # Significance level\n",
    "power = 0.8        # Desired power\n",
    "\n",
    "# Calculate the required sample size\n",
    "analysis = sms.TTestIndPower()\n",
    "sample_size = analysis.solve_power(effect_size=effect_size, alpha=alpha, power=power, alternative='two-sided')\n",
    "\n",
    "# Round up to the nearest integer, as sample size must be a whole number\n",
    "sample_size = int(np.ceil(sample_size))\n",
    "\n",
    "print(f\"Required Sample Size: {sample_size}\")\n"
   ]
  },
  {
   "cell_type": "markdown",
   "id": "1bcbf3e3",
   "metadata": {},
   "source": [
    "**HISTOGRAM OF CENTRAL LIMIT THEOREM**"
   ]
  },
  {
   "cell_type": "code",
   "execution_count": null,
   "id": "69fa8946",
   "metadata": {
    "scrolled": false
   },
   "outputs": [],
   "source": [
    "\n",
    "numeric_vars = ['price', 'num_products_sold', 'revenue_generated']\n",
    "\n",
    "\n",
    "num_samples = 64  \n",
    "sample_size = len(data) // num_samples\n",
    "\n",
    "\n",
    "summary_table = []\n",
    "\n",
    "\n",
    "for var in numeric_vars:\n",
    "    plt.figure(figsize=(8, 4))\n",
    "    \n",
    "   \n",
    "    mean = data[var].mean()\n",
    "    std = data[var].std()\n",
    "    synthetic_data = np.random.normal(mean, std, size=num_samples * sample_size)\n",
    "    \n",
    "    \n",
    "    synthetic_mean = np.mean(synthetic_data)\n",
    "    synthetic_std_error = stats.sem(synthetic_data)\n",
    "    \n",
    "    \n",
    "    sns.histplot(synthetic_data, kde=True)\n",
    "    plt.title(f'Synthetic Distribution of {var}')\n",
    "    plt.xlabel(var)\n",
    "    plt.ylabel('Frequency')\n",
    "    plt.show()\n",
    "    \n",
    "    \n",
    "    summary_table.append([var, synthetic_mean, synthetic_std_error])\n",
    "\n",
    "# Print the summary table\n",
    "summary_df = pd.DataFrame(summary_table, columns=['Variable', 'Mean', 'Std Error'])\n",
    "print(summary_df)\n"
   ]
  },
  {
   "cell_type": "markdown",
   "id": "0bbb9aaa",
   "metadata": {},
   "source": [
    "\n",
    "\n",
    "These statistics provide insights into the central tendency (mean) of the variables and the uncertainty associated with these estimates (standard error). The standard error helps gauge the precision of the mean estimates. Smaller standard errors indicate more precise estimates, while larger standard errors suggest greater variability or uncertainty in the estimates.\n"
   ]
  },
  {
   "cell_type": "markdown",
   "id": "13f70adb",
   "metadata": {},
   "source": [
    "**COUNT OF UNIQUE VALUE IN SKU COLUMNS**"
   ]
  },
  {
   "cell_type": "code",
   "execution_count": null,
   "id": "c1ac93ed",
   "metadata": {},
   "outputs": [],
   "source": [
    "\n",
    "unique_value_counts = data['sku'].value_counts().reset_index()\n",
    "unique_value_counts.columns = ['sku', 'Count']\n",
    "\n",
    "# Remove 'SKU' prefix and convert values to integers\n",
    "unique_value_counts['sku'] = unique_value_counts['sku'].str.replace('SKU', '').astype(int, errors='ignore')\n",
    "\n",
    "\n",
    "\n",
    "unique_value_counts = unique_value_counts.sort_values('sku')\n",
    "unique_value_counts['sku'] = 'sku' + unique_value_counts['sku'].astype(str)\n",
    "\n",
    "\n",
    "table = tabulate(unique_value_counts, headers='keys', tablefmt='pretty', showindex=False)\n",
    "\n",
    "print(\"Unique Value Counts:\")\n",
    "print(table)"
   ]
  },
  {
   "cell_type": "markdown",
   "id": "935d3709",
   "metadata": {},
   "source": [
    "**ORDER QUANTITY OF EACH SKU**"
   ]
  },
  {
   "cell_type": "code",
   "execution_count": null,
   "id": "739a703e",
   "metadata": {},
   "outputs": [],
   "source": [
    "order_quantity_chart = px.bar(data, x='sku', \n",
    "                              y='order_quantities', \n",
    "                              title='Order Quantity by SKU')\n",
    "order_quantity_chart.show()"
   ]
  },
  {
   "cell_type": "markdown",
   "id": "bd2f2d3c",
   "metadata": {},
   "source": [
    "**Revenue Generated by SKU**"
   ]
  },
  {
   "cell_type": "code",
   "execution_count": null,
   "id": "aaa81e46",
   "metadata": {
    "scrolled": false
   },
   "outputs": [],
   "source": [
    "\n",
    "\n",
    "\n",
    "\n",
    "fig, ax = plt.subplots(figsize=(20, 10))\n",
    "\n",
    "\n",
    "ax.plot(data['sku'], data['revenue_generated'], marker='o', linestyle='-')\n",
    "\n",
    "\n",
    "ax.set_xlabel('SKU')\n",
    "ax.set_ylabel('Revenue generated')\n",
    "ax.set_title('Revenue Generated by SKU')\n",
    "\n",
    "\n",
    "plt.xticks(rotation=45)\n",
    "\n",
    "n = 5\n",
    "for i, label in enumerate(ax.xaxis.get_ticklabels()):\n",
    "    if i % n != 0:\n",
    "        label.set_visible(False)\n",
    "\n",
    "\n",
    "related_values_df = data[['sku', 'revenue_generated']]\n",
    "\n",
    "\n",
    "related_values_df['revenue_generated'] = related_values_df['revenue_generated'].apply(lambda x: '{:.2f}'.format(x))\n",
    "\n",
    "\n",
    "print(related_values_df)\n",
    "\n",
    "\n",
    "plt.grid(True)\n",
    "plt.tight_layout()\n",
    "plt.show()\n"
   ]
  },
  {
   "cell_type": "markdown",
   "id": "03779df8",
   "metadata": {},
   "source": [
    "Findings:\n",
    "\n",
    "From the provided revenue data, we can derive the following insights:\n",
    "\n",
    "1. **Revenue Range**: The revenue generated by SKUs varies significantly, ranging from as low as $1,061.62 to \n",
    "\n",
    "     as high as $9,866.47, showcasing a wide range of performance.\n",
    "\n",
    "2. **Top Performing SKUs**: Several SKUs stand out as top performers in terms of revenue, including SKU51 ($9,866.47), SKU39 ($9,692.32), and SKU32 ($9,571.55).\n",
    "\n",
    "3. **Lowest Performing SKUs**: Conversely, some SKUs have relatively low revenue compared to others. For example, SKU57 ($1,605.87), SKU58 ($2,021.15), and SKU69 ($1,752.38) fall into this category.\n",
    "\n",
    "4. **Consistency**: Some SKUs exhibit consistent revenue figures. For instance, SKU65, SKU66, and SKU67 have revenue figures that are quite close, suggesting stable performance across these SKUs.\n",
    "\n",
    "5. **Variability**: Notably, there is significant variability in revenue figures among SKUs, indicating that certain products may have seasonal or cyclical demand patterns.\n",
    "\n",
    "6. **Data Distribution**: The revenue values are not evenly distributed. Some SKUs are clustered around similar revenue levels, while others have distinct higher or lower revenues.\n",
    "\n",
    "These findings provide valuable insights into the revenue distribution across different SKUs and can serve as a foundation for further analysis and decision-making related to inventory management, marketing strategies, and product development.\n"
   ]
  },
  {
   "cell_type": "markdown",
   "id": "040d930a",
   "metadata": {},
   "source": [
    "**STOCK LEVELS BY SKU**"
   ]
  },
  {
   "cell_type": "code",
   "execution_count": null,
   "id": "ac70ca4b",
   "metadata": {
    "scrolled": false
   },
   "outputs": [],
   "source": [
    "\n",
    "\n",
    "\n",
    "fig, ax = plt.subplots(figsize=(20, 15))\n",
    "\n",
    "\n",
    "ax.plot(data['sku'], data['stock_levels'], marker='o', linestyle='-')\n",
    "\n",
    "\n",
    "ax.set_xlabel('SKU')\n",
    "ax.set_ylabel('Stock levels')\n",
    "ax.set_title('Stock Levels by SKU')\n",
    "\n",
    "\n",
    "n = 5\n",
    "for i, label in enumerate(ax.xaxis.get_ticklabels()):\n",
    "    if i % n != 0:\n",
    "        label.set_visible(False)\n",
    "\n",
    "\n",
    "plt.xticks(rotation=45)\n",
    "\n",
    "\n",
    "plt.grid(True)\n",
    "plt.tight_layout()\n",
    "plt.show()\n",
    "\n",
    "\n",
    "related_values_df = data[['sku', 'stock_levels']]\n",
    "\n",
    "\n",
    "related_values_df\n"
   ]
  },
  {
   "cell_type": "markdown",
   "id": "3c713b0a",
   "metadata": {},
   "source": [
    "FINDINGS:\n",
    "\n",
    "From the stock levels data, we observe the following insights:\n",
    "\n",
    "1. **Stock Level Distribution**: The stock levels across SKUs vary widely, with values ranging from 0 to 100 units.\n",
    "\n",
    "2. **Low Stock SKUs**: Some SKUs have critically low stock levels, including SKU68 (0), SKU34 (1), and SKU2 (1), requiring immediate attention to prevent stockouts.\n",
    "\n",
    "3. **High Stock SKUs**: Conversely, certain SKUs have high stock levels, reaching the maximum of 100 units, indicating potential overstock situations.\n",
    "\n",
    "4. **Variability**: The data shows significant variability in stock levels, implying distinct demand patterns or ordering practices among SKUs.\n",
    "\n",
    "5. **Critical Stock**: SKUs with low stock levels, especially those with high demand, need vigilant monitoring to ensure product availability.\n",
    "\n",
    "6. **Inventory Optimization**: Consider inventory optimization strategies for SKUs with extreme values to align stock levels with actual demand.\n",
    "\n",
    "These insights provide valuable guidance for inventory management decisions, including setting reorder points, optimizing stock levels, and refining demand forecasting.\n"
   ]
  },
  {
   "cell_type": "markdown",
   "id": "9ed332e0",
   "metadata": {},
   "source": [
    "**BAR PLOT FOR CATEGORICAL VARIABLES**"
   ]
  },
  {
   "cell_type": "code",
   "execution_count": null,
   "id": "04dce653",
   "metadata": {
    "scrolled": false
   },
   "outputs": [],
   "source": [
    "\n",
    "\n",
    "categorical_vars = ['product_type', 'customer_demographics', 'shipping_carriers', 'supplier_name', 'location', 'inspection_results', 'transportation_modes', 'routes']\n",
    "\n",
    "\n",
    "for var in categorical_vars:\n",
    "    plt.figure(figsize=(10, 6))\n",
    "    \n",
    "    \n",
    "    sns.countplot(data=data, x=var, order=data[var].value_counts().index)\n",
    "    \n",
    "\n",
    "    ax = plt.gca()\n",
    "    for p in ax.patches:\n",
    "        ax.annotate(f'{p.get_height()}', (p.get_x() + p.get_width() / 2., p.get_height()), ha='center', va='bottom', fontsize=12)\n",
    "    \n",
    "    plt.title(f'Distribution of {var}')\n",
    "    plt.xlabel(var)\n",
    "    plt.ylabel('Count')\n",
    "    plt.xticks(rotation=45)\n",
    "    \n",
    "    plt.show()\n"
   ]
  },
  {
   "cell_type": "markdown",
   "id": "ef39c6d3",
   "metadata": {},
   "source": [
    "**ORDER QUANTITY BY TYPE OF PRODUCT**"
   ]
  },
  {
   "cell_type": "code",
   "execution_count": null,
   "id": "16ef51cd",
   "metadata": {},
   "outputs": [],
   "source": [
    "order_quantity_by_type_of_product = data.groupby('product_type')['order_quantities'].sum().reset_index()\n",
    "\n",
    "plt.figure(figsize=(10, 6))\n",
    "ax = sns.barplot(x='product_type', y='order_quantities', data=order_quantity_by_type_of_product, palette='viridis')\n",
    "plt.title('Order Quantity by Type of Product')\n",
    "plt.xlabel('Product type')\n",
    "plt.ylabel('Order quantities')\n",
    "plt.xticks(rotation=45)  # Rotate x-axis labels for better readability\n",
    "\n",
    "# Annotate the bars with value labels\n",
    "for p in ax.patches:\n",
    "    ax.annotate(f'{p.get_height():.2f}', (p.get_x() + p.get_width() / 2., p.get_height()), ha='center', va='baseline')\n",
    "\n",
    "# Show the chart\n",
    "plt.show()"
   ]
  },
  {
   "cell_type": "markdown",
   "id": "3674018a",
   "metadata": {},
   "source": [
    "**SCATTER PLOT FOR EXPLORING RELATIONSHIP BETWEEN THE PRICE OF THE PRODUCTS AND THE REVENUE GENERATED BY THEM**"
   ]
  },
  {
   "cell_type": "code",
   "execution_count": null,
   "id": "0ee695a1",
   "metadata": {
    "scrolled": false
   },
   "outputs": [],
   "source": [
    "fig = px.scatter(data, x='price', \n",
    "                 y='revenue_generated', \n",
    "                 color='product_type', \n",
    "                 hover_data=['num_products_sold'], \n",
    "                 trendline=\"ols\")\n",
    "fig.show()"
   ]
  },
  {
   "cell_type": "markdown",
   "id": "83986110",
   "metadata": {},
   "source": [
    "FINDINGS:\n",
    "\n",
    "The company derives more revenue from skincare products. The higher the price of skincare products, the more revenue they generate. "
   ]
  },
  {
   "cell_type": "markdown",
   "id": "bf116d1f",
   "metadata": {},
   "source": [
    "**PRICE VARIATION BY PRODUCT TYPE**"
   ]
  },
  {
   "cell_type": "code",
   "execution_count": null,
   "id": "b7563821",
   "metadata": {},
   "outputs": [],
   "source": [
    "\n",
    "\n",
    "# Create a box plot\n",
    "plt.figure(figsize=(12, 6))\n",
    "sns.boxplot(x='product_type', y='price', data=data, palette='Set3')\n",
    "plt.title('Distribution of Price Across Different Product Types')\n",
    "plt.xlabel('Product Type')\n",
    "plt.ylabel('Price')\n",
    "plt.xticks(rotation=45)\n",
    "plt.show()\n",
    "\n",
    "# Display tabulated data\n",
    "price_by_product_type = data.groupby('product_type')['price'].describe().reset_index()\n",
    "price_by_product_type = price_by_product_type.round(2)  # Round to two decimal places\n",
    "print(tabulate(price_by_product_type, headers='keys', tablefmt='pretty', showindex=False))\n",
    "\n",
    "# Create a violin plot for a different perspective\n",
    "plt.figure(figsize=(12, 6))\n",
    "sns.violinplot(x='product_type', y='price', data=data, palette='Set3')\n",
    "plt.title('Distribution of Price Across Different Product Types (Violin Plot)')\n",
    "plt.xlabel('product Type')\n",
    "plt.ylabel('Price')\n",
    "plt.xticks(rotation=45)\n",
    "plt.show()\n",
    "\n",
    "# Display tabulated data\n",
    "print(tabulate(price_by_product_type, headers='keys', tablefmt='pretty', showindex=False))\n"
   ]
  },
  {
   "cell_type": "markdown",
   "id": "00737dde",
   "metadata": {},
   "source": [
    "Findings: \n",
    "\n",
    "From the analysis of the dataset, we can make the following findings regarding the distribution of prices across different product types:\n",
    "\n",
    "1. **Product Type Variation**: The analysis includes three product types: \"cosmetics,\" \"haircare,\" and \"skincare.\"\n",
    "\n",
    "2. **Count**: The \"count\" column indicates the number of observations (or products) available for each product type in the dataset. For instance, there are 26 observations for \"cosmetics,\" 34 for \"haircare,\" and 40 for \"skincare.\"\n",
    "\n",
    "3. **Mean Price**: The \"mean\" column represents the average price for each product type. \"Skincare\" products have the highest average price at approximately 47.26, followed by \"cosmetics\" at 57.36 and \"haircare\" at 46.01.\n",
    "\n",
    "4. **Price Variation**: The \"std\" (standard deviation) column provides a measure of price variability within each product type. Higher standard deviations indicate greater price variability. \"Skincare\" products have the highest price variability with a standard deviation of approximately 33.34, followed by \"cosmetics\" and \"haircare.\"\n",
    "\n",
    "5. **Price Range**: The \"min\" (minimum) and \"max\" (maximum) columns indicate the price range within each product type. For example, the minimum price for \"cosmetics\" is 2.4, and the maximum price is 97.76.\n",
    "\n",
    "6. **Quartiles (25%, 50%, 75%)**: The quartile columns (\"25%,\" \"50%,\" and \"75%\") provide information about the distribution of prices within each product type. These quartiles help identify the range in which most prices fall:\n",
    "   - The \"25%\" quartile represents the lower quartile, indicating that 25% of the prices are below this value.\n",
    "   - The \"50%\" quartile is the median price, where 50% of the prices are below and 50% are above.\n",
    "   - The \"75%\" quartile represents the upper quartile, indicating that 25% of the prices are above this value.\n",
    "\n",
    "Overall, this analysis allows us to understand how product prices are distributed within different product types. For instance, \"skincare\" products have a wide price range with relatively high variability, while \"cosmetics\" have a narrower price range and higher average prices. \"Haircare\" products fall in between in terms of both average price and price variability.\n"
   ]
  },
  {
   "cell_type": "markdown",
   "id": "9de72d4d",
   "metadata": {},
   "source": [
    "**PASS RATE,FAIL RATE AND PENDING RATE FOR EACH PRODUCT**"
   ]
  },
  {
   "cell_type": "code",
   "execution_count": null,
   "id": "387323a2",
   "metadata": {},
   "outputs": [],
   "source": [
    "data.columns\n"
   ]
  },
  {
   "cell_type": "code",
   "execution_count": null,
   "id": "9bf79548",
   "metadata": {},
   "outputs": [],
   "source": [
    "product_metrics = data.groupby('product_type')['inspection_results'].value_counts(normalize=True).unstack(fill_value=0)\n",
    "product_metrics['Pass Rate'] = product_metrics['Pass']\n",
    "product_metrics['Fail Rate'] = product_metrics['Fail']\n",
    "product_metrics['Pending Rate'] = product_metrics['Pending']\n",
    "product_metrics = product_metrics[['Pass Rate', 'Fail Rate', 'Pending Rate']].reset_index()\n",
    "\n",
    "\n",
    "product_metrics = product_metrics.round(2)\n",
    "\n",
    "\n",
    "print(tabulate(product_metrics, headers='keys', tablefmt='pretty', showindex=False))"
   ]
  },
  {
   "cell_type": "code",
   "execution_count": null,
   "id": "5fe97c5b",
   "metadata": {},
   "outputs": [],
   "source": [
    "\n",
    "\n",
    "colors = ['green', 'red', 'blue']\n",
    "\n",
    "\n",
    "plt.figure(figsize=(10, 6))\n",
    "\n",
    "bar_width = 0.25\n",
    "index = np.arange(len(product_metrics['product_type']))\n",
    "\n",
    "plt.bar(index, product_metrics['Pass Rate'], bar_width, label='Pass Rate', alpha=0.7, color=colors[0])\n",
    "plt.bar(index + bar_width, product_metrics['Fail Rate'], bar_width, label='Fail Rate', alpha=0.7, color=colors[1])\n",
    "plt.bar(index + 2 * bar_width, product_metrics['Pending Rate'], bar_width, label='Pending Rate', alpha=0.7, color=colors[2])\n",
    "\n",
    "\n",
    "plt.xlabel('Product')\n",
    "plt.ylabel('Rate')\n",
    "plt.title('Product Metrics')\n",
    "plt.legend()\n",
    "\n",
    "\n",
    "plt.xticks(index + bar_width, product_metrics['product_type'], rotation=45)\n",
    "\n",
    "\n",
    "for i in range(len(product_metrics)):\n",
    "    plt.text(index[i], product_metrics['Pass Rate'][i] + 0.01, f'{product_metrics[\"Pass Rate\"][i]:.2f}', ha='center', fontsize=10)\n",
    "    plt.text(index[i] + bar_width, product_metrics['Fail Rate'][i] + 0.01, f'{product_metrics[\"Fail Rate\"][i]:.2f}', ha='center', fontsize=10)\n",
    "    plt.text(index[i] + 2 * bar_width, product_metrics['Pending Rate'][i] + 0.01, f'{product_metrics[\"Pending Rate\"][i]:.2f}', ha='center', fontsize=10)\n",
    "\n",
    "\n",
    "plt.tight_layout()\n",
    "plt.show()\n"
   ]
  },
  {
   "cell_type": "markdown",
   "id": "f1505c1d",
   "metadata": {},
   "source": [
    "Findings:\n",
    "\n",
    "- **Cosmetics:** The Pass Rate for cosmetics is 23%, indicating that only 23% of inspected cosmetics meet the quality standards. There is a relatively high Fail Rate of 38% and a similar Pending Rate of 38%.\n",
    "\n",
    "- **Haircare:** Haircare products have an even lower Pass Rate of 18%, suggesting that only 18% of haircare products pass inspection. The Fail Rate is 38%, and the Pending Rate is the highest among the three categories at 44%.\n",
    "\n",
    "- **Skincare:** Skincare products perform the best among the categories, with a Pass Rate of 28%. However, there is still a significant Fail Rate of 32% and a Pending Rate of 40%.\n",
    "\n",
    "These findings highlight variations in product quality across different categories, with skincare products having the highest Pass Rate.\n"
   ]
  },
  {
   "cell_type": "markdown",
   "id": "4be8f972",
   "metadata": {},
   "source": [
    "**DEFECT RATES ON PRODUCT TYPE**"
   ]
  },
  {
   "cell_type": "code",
   "execution_count": null,
   "id": "94bcb0d8",
   "metadata": {},
   "outputs": [],
   "source": [
    "data.columns"
   ]
  },
  {
   "cell_type": "code",
   "execution_count": null,
   "id": "c53581a5",
   "metadata": {},
   "outputs": [],
   "source": [
    "# Group the data by 'Product type' and calculate the mean of 'Defect rates'\n",
    "mean_defect_rates = data.groupby('product_type')['defect_rates'].mean()\n",
    "\n",
    "# Print the mean defect rates for each product type\n",
    "print(mean_defect_rates)"
   ]
  },
  {
   "cell_type": "code",
   "execution_count": null,
   "id": "63cac243",
   "metadata": {},
   "outputs": [],
   "source": [
    "\n",
    "\n",
    "# Create a box plot\n",
    "plt.figure(figsize=(12, 6))\n",
    "sns.boxplot(x='product_type', y='defect_rates', data=data, palette='Set3')\n",
    "plt.title('Distribution of Defect rates Across Different Product Types')\n",
    "plt.xlabel('Product Type')\n",
    "plt.ylabel('Defect rates')\n",
    "plt.xticks(rotation=45)\n",
    "plt.show()\n",
    "\n",
    "# Display tabulated data\n",
    "defect_rate_product_type = data.groupby('product_type')['defect_rates'].describe().reset_index()\n",
    "defect_rate_product_type = defect_rate_product_type.round(2)  # Round to two decimal places\n",
    "print(tabulate(defect_rate_product_type, headers='keys', tablefmt='pretty', showindex=False))\n",
    "\n",
    "# Create a violin plot for a different perspective\n",
    "plt.figure(figsize=(12, 6))\n",
    "sns.violinplot(x='product_type', y='defect_rates', data=data, palette='Set3')\n",
    "plt.title('Distribution of defect_rate Across Different Product Types (Violin Plot)')\n",
    "plt.xlabel('Product Type')\n",
    "plt.ylabel('Defect rates')\n",
    "plt.xticks(rotation=45)\n",
    "plt.show()\n",
    "\n",
    "# Display tabulated data\n",
    "print(tabulate(defect_rate_product_type, headers='keys', tablefmt='pretty', showindex=False))\n"
   ]
  },
  {
   "cell_type": "markdown",
   "id": "b0df3128",
   "metadata": {},
   "source": [
    "\n",
    "\n",
    "FINDINGS:\n",
    "\n",
    "- **Cosmetics:** Cosmetics have the lowest mean Defect rate (1.92) and a moderate standard deviation (1.46), indicating relatively fewer defects on average with moderate variability.\n",
    "\n",
    "- **Haircare:** Haircare products have a slightly higher mean Defect rate (2.48) compared to cosmetics but still within an acceptable range. The standard deviation is moderate (1.39), suggesting moderate variability in defect rates.\n",
    "\n",
    "- **Skincare:** Skincare products have a mean Defect rate of 2.33, similar to haircare, but with a slightly higher standard deviation (1.51).\n",
    "\n",
    "Based on mean Defect rates, cosmetics appear to have the lowest average defects. \n",
    "\n"
   ]
  },
  {
   "cell_type": "markdown",
   "id": "b1a4865b",
   "metadata": {},
   "source": []
  },
  {
   "cell_type": "markdown",
   "id": "819aad6b",
   "metadata": {},
   "source": [
    "**SALES BY PRODUCT TYPE**"
   ]
  },
  {
   "cell_type": "code",
   "execution_count": null,
   "id": "0ffdeebb",
   "metadata": {
    "scrolled": false
   },
   "outputs": [],
   "source": [
    "\n",
    "\n",
    "sales_data = data.groupby('product_type')['num_products_sold'].sum().reset_index()\n",
    "\n",
    "product_types = sales_data['product_type']\n",
    "sales = sales_data['num_products_sold']\n",
    "\n",
    "\n",
    "plt.figure(figsize=(8, 8))\n",
    "plt.pie(sales, labels=product_types, autopct='%1.1f%%', startangle=140, colors=plt.cm.Paired.colors)\n",
    "plt.title('Sales by Product Type')\n",
    "plt.axis('equal') \n",
    "\n",
    "\n",
    "plt.show()\n"
   ]
  },
  {
   "cell_type": "markdown",
   "id": "56f0a370",
   "metadata": {},
   "source": []
  },
  {
   "cell_type": "markdown",
   "id": "d8a874bc",
   "metadata": {},
   "source": [
    "**TOTAL REVENUE FROM SHIPPING CARRIER**"
   ]
  },
  {
   "cell_type": "code",
   "execution_count": null,
   "id": "761d8ca4",
   "metadata": {},
   "outputs": [],
   "source": [
    "total_revenue = data.groupby('shipping_carriers')['revenue_generated'].sum().reset_index()\n",
    "\n",
    "plt.figure(figsize=(10, 6))\n",
    "ax = sns.barplot(x='shipping_carriers', y='revenue_generated', data=total_revenue, palette='viridis')\n",
    "plt.title('Total Revenue by Shipping Carrier')\n",
    "plt.xlabel('Shipping Carrier')\n",
    "plt.ylabel('Revenue Generated')\n",
    "plt.xticks(rotation=45)  # Rotate x-axis labels for better readability\n",
    "\n",
    "# Annotate the bars with value labels\n",
    "for p in ax.patches:\n",
    "    ax.annotate(f'${p.get_height():.2f}', (p.get_x() + p.get_width() / 2., p.get_height()), ha='center', va='baseline')\n",
    "\n",
    "# Show the chart\n",
    "plt.show()"
   ]
  },
  {
   "cell_type": "markdown",
   "id": "e691e724",
   "metadata": {},
   "source": []
  },
  {
   "cell_type": "code",
   "execution_count": null,
   "id": "5b803222",
   "metadata": {
    "scrolled": false
   },
   "outputs": [],
   "source": [
    "\n",
    "\n",
    "carrier_order = [\"Carrier A\", \"Carrier B\", \"Carrier C\"]\n",
    "\n",
    "\n",
    "plt.figure(figsize=(6, 4))\n",
    "sns.catplot(x=\"shipping_carriers\", y=\"revenue_generated\", data=data, kind='box', palette=\"coolwarm\", order=carrier_order)\n",
    "plt.title(\"Total Revenue by Shipping Carrier\")\n",
    "plt.xlabel(\"Shipping Carrier\")\n",
    "plt.ylabel(\"Revenue Generated\")\n",
    "plt.show()\n",
    "\n",
    "carrier_stats = data.groupby(\"shipping_carriers\")[\"revenue_generated\"].describe()\n",
    "\n",
    "\n",
    "carrier_stats = carrier_stats.apply(lambda x: round(x, 2))\n",
    "\n",
    "\n",
    "carrier_stats.columns = [\"Count\", \"Mean\", \"Std Dev\", \"Min\", \"25%\", \"50%\", \"75%\", \"Max\"]\n",
    "\n",
    "\n",
    "carrier_stats.reset_index(inplace=True)\n",
    "carrier_stats\n"
   ]
  },
  {
   "cell_type": "markdown",
   "id": "b9146d48",
   "metadata": {},
   "source": [
    "\n",
    "\n",
    "From the table summarizing revenue generated by different shipping carriers, we can derive the following insights:\n",
    "\n",
    "1. **Carrier Performance**: \n",
    "   - Carrier C has the highest average revenue generated, followed by Carrier B and Carrier A, suggesting Carrier C may be more effective in revenue generation on average.\n",
    "  \n",
    "2. **Revenue Range**:\n",
    "   - Carrier A exhibits the widest revenue range, from $1,912.47 \n",
    "   \n",
    "   to $9,866.47, indicating significant variability in performance.\n",
    "   - In contrast, Carrier B and Carrier C have narrower revenue ranges.\n",
    "  \n",
    "3. **Consistency**:\n",
    "   - Carrier B has the highest count of observations (shipments), indicating that it handles the most shipments among the three carriers.\n",
    "   - Carrier C shows the lowest standard deviation, implying relatively consistent revenue figures compared to the other carriers.\n",
    "  \n",
    "4. **Best Performer**:\n",
    "   - The determination of the \"best\" carrier depends on specific business goals and priorities.\n",
    "   - If revenue generation is the primary focus, Carrier C stands out with the highest average revenue and relatively low variability.\n",
    "   - However, it's essential to consider other factors such as reliability, cost, and customer satisfaction when choosing the best carrier for the business.\n",
    "\n",
    "\n"
   ]
  },
  {
   "cell_type": "markdown",
   "id": "37928360",
   "metadata": {},
   "source": [
    "**SHIPPING COSTS BY CARRIER**"
   ]
  },
  {
   "cell_type": "code",
   "execution_count": null,
   "id": "865465f4",
   "metadata": {
    "scrolled": false
   },
   "outputs": [],
   "source": [
    "shipping_cost_chart = px.bar(data, x='shipping_carriers', \n",
    "                             y='shipping_costs', \n",
    "                             title='Shipping Costs by Carrier')\n",
    "shipping_cost_chart.show()"
   ]
  },
  {
   "cell_type": "markdown",
   "id": "ca9c9d7a",
   "metadata": {},
   "source": []
  },
  {
   "cell_type": "markdown",
   "id": "a33f4850",
   "metadata": {},
   "source": [
    "**SHIPPING COST VARIATION BY SHIPPING CARRIER**"
   ]
  },
  {
   "cell_type": "code",
   "execution_count": null,
   "id": "9676e141",
   "metadata": {},
   "outputs": [],
   "source": [
    "# Create a box plot\n",
    "plt.figure(figsize=(12, 6))\n",
    "sns.boxplot(x='shipping_carriers', y='shipping_costs', data=data, palette='Set3')\n",
    "plt.title('Distribution of Shipping cost Across Different Shipping carriers')\n",
    "plt.xlabel('Shipping carriers')\n",
    "plt.ylabel('Shipping cost')\n",
    "plt.xticks(rotation=45)\n",
    "plt.show()\n",
    "\n",
    "# Display tabulated data\n",
    "shipping_cost_by_shipping_carriers = data.groupby('shipping_carriers')['shipping_costs'].describe().reset_index()\n",
    "shipping_cost_by_shipping_carriers = shipping_cost_by_shipping_carriers.round(2)  # Round to two decimal places\n",
    "print(tabulate(shipping_cost_by_shipping_carriers, headers='keys', tablefmt='pretty', showindex=False))\n",
    "\n",
    "# Create a violin plot for a different perspective\n",
    "plt.figure(figsize=(12, 6))\n",
    "sns.violinplot(x='shipping_carriers', y='shipping_costs', data=data, palette='Set3')\n",
    "plt.title('Distribution of Shipping costs Across Different Shipping carriers (Violin Plot)')\n",
    "plt.xlabel('Shipping carriers')\n",
    "plt.ylabel('Shipping costs')\n",
    "plt.xticks(rotation=45)\n",
    "plt.show()\n",
    "\n",
    "# Display tabulated data\n",
    "print(tabulate(shipping_cost_by_shipping_carriers, headers='keys', tablefmt='pretty', showindex=False))"
   ]
  },
  {
   "cell_type": "markdown",
   "id": "23825b22",
   "metadata": {},
   "source": [
    "FINDINGS:\n",
    "\n",
    "\n",
    "\n",
    "1. **Cost Variation**:\n",
    "   - The table provides an overview of shipping cost variations among different carriers.\n",
    "\n",
    "2. **Consistency**:\n",
    "   - All carriers exhibit consistent shipping cost ranges, as indicated by the relatively low standard deviations (std).\n",
    "\n",
    "3. **Average Costs**:\n",
    "   - On average, Carrier A, Carrier B, and Carrier C incur similar shipping costs, with means around 5.5.\n",
    "\n",
    "4. **Range of Costs**:\n",
    "   - Shipping costs for all carriers vary, ranging from approximately 1 to 10.\n",
    "\n",
    "5. **No Clear Cost Leader**:\n",
    "   - There is no significant difference in shipping costs between carriers, suggesting they have similar cost structures.\n",
    "\n",
    "This information helps in understanding the shipping cost dynamics across carriers and can inform cost-related decision-making.\n"
   ]
  },
  {
   "cell_type": "markdown",
   "id": "4c6c2c46",
   "metadata": {},
   "source": [
    "**PRODUCT TYPE BY SUPPLIERS**"
   ]
  },
  {
   "cell_type": "code",
   "execution_count": null,
   "id": "576a9bb2",
   "metadata": {},
   "outputs": [],
   "source": [
    "data.columns"
   ]
  },
  {
   "cell_type": "code",
   "execution_count": null,
   "id": "686e3222",
   "metadata": {},
   "outputs": [],
   "source": [
    "product_type_df = data[['supplier_name', 'product_type']].copy()\n",
    "\n",
    "\n",
    "product_type_df['product_type'] = product_type_df['product_type'].str.split(',')\n",
    "\n",
    "\n",
    "product_type_df = product_type_df.explode('product_type')\n",
    "\n",
    "\n",
    "product_type_table = pd.crosstab(product_type_df['supplier_name'], product_type_df['product_type'], margins=True, margins_name=\"Total\")\n",
    "\n",
    "\n",
    "print(tabulate(product_type_table, headers='keys', tablefmt='pretty', showindex=True))"
   ]
  },
  {
   "cell_type": "code",
   "execution_count": null,
   "id": "a2c93407",
   "metadata": {},
   "outputs": [],
   "source": []
  },
  {
   "cell_type": "markdown",
   "id": "9fa2495b",
   "metadata": {},
   "source": [
    "**MANUFACTURING COST BY SUPPLIER NAME**"
   ]
  },
  {
   "cell_type": "code",
   "execution_count": null,
   "id": "b27da923",
   "metadata": {},
   "outputs": [],
   "source": [
    "data.columns"
   ]
  },
  {
   "cell_type": "code",
   "execution_count": null,
   "id": "3f746056",
   "metadata": {},
   "outputs": [],
   "source": [
    "manufacturing_costs = data.groupby('supplier_name')['manufacturing_costs'].sum().reset_index()\n",
    "\n",
    "plt.figure(figsize=(10, 6))\n",
    "ax = sns.barplot(x='supplier_name', y='manufacturing_costs', data=manufacturing_costs, palette='viridis')\n",
    "plt.title('Manufacturing Cost by Supplier Name')\n",
    "plt.xlabel('Supplier Name')\n",
    "plt.ylabel('Total Manufacturing costs')\n",
    "plt.xticks(rotation=45)  # Rotate x-axis labels for better readability\n",
    "\n",
    "# Annotate the bars with value labels\n",
    "for p in ax.patches:\n",
    "    ax.annotate(f'${p.get_height():.2f}', (p.get_x() + p.get_width() / 2., p.get_height()), ha='center', va='baseline')\n",
    "\n",
    "# Show the chart\n",
    "plt.show()"
   ]
  },
  {
   "cell_type": "markdown",
   "id": "3f75a7d8",
   "metadata": {},
   "source": [
    "**MANUFACTURING COST VARIATION BY SUPPLIER NAME**"
   ]
  },
  {
   "cell_type": "code",
   "execution_count": null,
   "id": "42c7e270",
   "metadata": {},
   "outputs": [],
   "source": [
    "# Create a box plot\n",
    "plt.figure(figsize=(12, 6))\n",
    "sns.boxplot(x='supplier_name', y='manufacturing_costs', data=data, palette='Set3')\n",
    "plt.title('Distribution of Manufacturing cost Across Different Supplier name')\n",
    "plt.xlabel('Supplier Name')\n",
    "plt.ylabel('Manufacturing cost')\n",
    "plt.xticks(rotation=45)\n",
    "plt.show()\n",
    "\n",
    "# Display tabulated data\n",
    "manufacturing_cost_by_supplier_name = data.groupby('supplier_name')['manufacturing_costs'].describe().reset_index()\n",
    "manufacturing_cost_by_supplier_name = manufacturing_cost_by_supplier_name.round(2)  # Round to two decimal places\n",
    "print(tabulate(manufacturing_cost_by_supplier_name, headers='keys', tablefmt='pretty', showindex=False))\n",
    "\n",
    "# Create a violin plot for a different perspective\n",
    "plt.figure(figsize=(12, 6))\n",
    "sns.violinplot(x='supplier_name', y='manufacturing_costs', data=data, palette='Set3')\n",
    "plt.title('Distribution of Manufacturing costs Across Different Supplier Name (Violin Plot)')\n",
    "plt.xlabel('Supplier Name')\n",
    "plt.ylabel('Manufacturing costs')\n",
    "plt.xticks(rotation=45)\n",
    "plt.show()\n",
    "\n",
    "# Display tabulated data\n",
    "print(tabulate(manufacturing_cost_by_supplier_name, headers='keys', tablefmt='pretty', showindex=False))"
   ]
  },
  {
   "cell_type": "markdown",
   "id": "fb76b6a2",
   "metadata": {},
   "source": [
    "FINDINGS:\n",
    "\n",
    "1. **Supplier 4** has the highest average manufacturing cost among all suppliers, with a mean cost of approximately $62.71. This indicates that Supplier 4 generally incurs higher manufacturing expenses compared to others.\n",
    "\n",
    "2. **Supplier 1** and **Supplier 5** also have relatively higher average manufacturing costs, with mean costs of approximately \n",
    "\n",
    "     $45.25 and\n",
    "     \n",
    "     $44.77, respectively.\n",
    "\n",
    "3. **Supplier 2** and **Supplier 3** have lower average manufacturing costs, with mean costs of approximately $41.62 and \n",
    "\n",
    "$43.63, respectively.\n",
    "\n",
    "4. The manufacturing cost data varies widely, as indicated by the standard deviation (std) values for each supplier. Supplier 4 has the lowest standard deviation, suggesting more consistent manufacturing costs, while Supplier 5 has the highest standard deviation, indicating greater variability in costs.\n",
    "\n",
    "5. The range of manufacturing costs (from min to max) varies across suppliers. Supplier 4 has the highest minimum cost (11.42) and the highest maximum cost (99.47), indicating a broad cost range. In contrast, Supplier 1 has a relatively narrower cost range, with a minimum of 1.9 and a maximum of 97.73.\n",
    "\n",
    "6. The 25th percentile (25%) and 75th percentile (75%) values provide insights into the distribution of manufacturing costs within each supplier. For example, Supplier 1 has a 25th percentile cost of 12.14, indicating that 25% of their costs are below this value. Similarly, the 75th percentile cost for Supplier 1 is 70.15, indicating that 25% of their costs are above this value.\n",
    "\n",
    "In summary, this table highlights variations in manufacturing costs among different suppliers. It's important to consider both the average costs and the spread of costs to make informed decisions regarding supplier selection and cost management.\n"
   ]
  },
  {
   "cell_type": "markdown",
   "id": "eec2183a",
   "metadata": {},
   "source": [
    "**PASS RATE,FAIL RATE AND PENDING RATE FOR EACH SUPPLIER**"
   ]
  },
  {
   "cell_type": "code",
   "execution_count": null,
   "id": "bf149b1c",
   "metadata": {},
   "outputs": [],
   "source": [
    "\n",
    "supplier_metrics = data.groupby('supplier_name')['inspection_results'].value_counts(normalize=True).unstack(fill_value=0)\n",
    "supplier_metrics['Pass Rate'] = supplier_metrics['Pass']\n",
    "supplier_metrics['Fail Rate'] = supplier_metrics['Fail']\n",
    "supplier_metrics['Pending Rate'] = supplier_metrics['Pending']\n",
    "supplier_metrics = supplier_metrics[['Pass Rate', 'Fail Rate', 'Pending Rate']].reset_index()\n",
    "\n",
    "\n",
    "supplier_metrics = supplier_metrics.round(2)\n",
    "\n",
    "\n",
    "print(tabulate(supplier_metrics, headers='keys', tablefmt='pretty', showindex=False))"
   ]
  },
  {
   "cell_type": "code",
   "execution_count": null,
   "id": "a2ee171e",
   "metadata": {},
   "outputs": [],
   "source": [
    "\n",
    "\n",
    "colors = ['green', 'red', 'blue']\n",
    "\n",
    "\n",
    "plt.figure(figsize=(10, 6))\n",
    "\n",
    "bar_width = 0.25\n",
    "index = np.arange(len(supplier_metrics['supplier_name']))\n",
    "\n",
    "plt.bar(index, supplier_metrics['Pass Rate'], bar_width, label='Pass Rate', alpha=0.7, color=colors[0])\n",
    "plt.bar(index + bar_width, supplier_metrics['Fail Rate'], bar_width, label='Fail Rate', alpha=0.7, color=colors[1])\n",
    "plt.bar(index + 2 * bar_width, supplier_metrics['Pending Rate'], bar_width, label='Pending Rate', alpha=0.7, color=colors[2])\n",
    "\n",
    "\n",
    "plt.xlabel('Supplier')\n",
    "plt.ylabel('Rate')\n",
    "plt.title('Supplier Metrics')\n",
    "plt.legend()\n",
    "\n",
    "\n",
    "plt.xticks(index + bar_width, supplier_metrics['supplier_name'], rotation=45)\n",
    "\n",
    "\n",
    "for i in range(len(supplier_metrics)):\n",
    "    plt.text(index[i], supplier_metrics['Pass Rate'][i] + 0.01, f'{supplier_metrics[\"Pass Rate\"][i]:.2f}', ha='center', fontsize=10)\n",
    "    plt.text(index[i] + bar_width, supplier_metrics['Fail Rate'][i] + 0.01, f'{supplier_metrics[\"Fail Rate\"][i]:.2f}', ha='center', fontsize=10)\n",
    "    plt.text(index[i] + 2 * bar_width, supplier_metrics['Pending Rate'][i] + 0.01, f'{supplier_metrics[\"Pending Rate\"][i]:.2f}', ha='center', fontsize=10)\n",
    "\n",
    "\n",
    "plt.tight_layout()\n",
    "plt.show()\n"
   ]
  },
  {
   "cell_type": "markdown",
   "id": "7560b824",
   "metadata": {},
   "source": [
    "Findings:\n",
    "\n",
    "- **Supplier 1** has the highest Pass Rate (48%) but also a considerable Fail Rate (22%) and Pending Rate (30%).\n",
    "- **Supplier 2** exhibits a Pass Rate of 23%, with relatively high Fail (36%) and Pending (41%) Rates.\n",
    "- **Supplier 3** faces challenges with the lowest Pass Rate (13%) and the highest Pending Rate (67%).\n",
    "- **Supplier 4** has a 0% Pass Rate, indicating significant quality issues.\n",
    "- **Supplier 5** has a Pass Rate of 17%, similar to Supplier 2, but with a high Pending Rate (44%).\n",
    "\n",
    "These findings suggest variations in supplier performance, with Supplier 1 being the most reliable and Supplier 4 facing significant quality concerns."
   ]
  },
  {
   "cell_type": "markdown",
   "id": "5da7caa7",
   "metadata": {},
   "source": [
    "**DEFECT RATES ON DIFFERENT SUPPLIER**"
   ]
  },
  {
   "cell_type": "code",
   "execution_count": null,
   "id": "c0edf6b0",
   "metadata": {},
   "outputs": [],
   "source": [
    "data.columns"
   ]
  },
  {
   "cell_type": "code",
   "execution_count": null,
   "id": "1f124023",
   "metadata": {},
   "outputs": [],
   "source": [
    "\n",
    "\n",
    "# Create a box plot\n",
    "plt.figure(figsize=(12, 6))\n",
    "sns.boxplot(x='supplier_name', y='defect_rates', data=data, palette='Set3')\n",
    "plt.title('Distribution of Defect rates Across Different Supplier')\n",
    "plt.xlabel('Supplier name')\n",
    "plt.ylabel('Defect rates')\n",
    "plt.xticks(rotation=45)\n",
    "plt.show()\n",
    "\n",
    "# Display tabulated data\n",
    "defect_rate_supplier_name = data.groupby('supplier_name')['defect_rates'].describe().reset_index()\n",
    "defect_rate_supplier_name = defect_rate_supplier_name.round(2)  # Round to two decimal places\n",
    "print(tabulate(defect_rate_supplier_name, headers='keys', tablefmt='pretty', showindex=False))\n",
    "\n",
    "# Create a violin plot for a different perspective\n",
    "plt.figure(figsize=(12, 6))\n",
    "sns.violinplot(x='supplier_name', y='defect_rates', data=data, palette='Set3')\n",
    "plt.title('Distribution of defect_rate Across Different Supplier (Violin Plot)')\n",
    "plt.xlabel('Supplier name')\n",
    "plt.ylabel('Defect rates')\n",
    "plt.xticks(rotation=45)\n",
    "plt.show()\n",
    "\n",
    "# Display tabulated data\n",
    "print(tabulate(defect_rate_supplier_name, headers='keys', tablefmt='pretty', showindex=False))"
   ]
  },
  {
   "cell_type": "markdown",
   "id": "9cf0f916",
   "metadata": {},
   "source": [
    "\n",
    "FINDINGS: \n",
    "\n",
    "- **Supplier 1:** Supplier 1 has the lowest mean Defect rate (1.80) among all the suppliers, indicating that, on average, their supplied products have fewer defects. The standard deviation is moderate (1.40), suggesting some variability in defect rates.\n",
    "\n",
    "- **Supplier 2:** Supplier 2 has a mean Defect rate of 2.36, which is higher than Supplier 1 but still reasonable. The standard deviation is moderate (1.38), indicating some variability.\n",
    "\n",
    "- **Supplier 3:** Supplier 3 has a mean Defect rate of 2.47, similar to Supplier 2, but with a slightly higher standard deviation (1.39).\n",
    "\n",
    "- **Supplier 4:** Supplier 4 has a mean Defect rate of 2.34, similar to Supplier 2, with a moderate standard deviation (1.50).\n",
    "\n",
    "- **Supplier 5:** Supplier 5 has the highest mean Defect rate (2.67) among all the suppliers, suggesting that, on average, their supplied products have more defects. The standard deviation is relatively high (1.64), indicating higher variability in defect rates.\n",
    "\n",
    "\n"
   ]
  },
  {
   "cell_type": "markdown",
   "id": "0d5a4810",
   "metadata": {},
   "source": [
    "**MANUFACTURING LEAD TIME BY SUPPLIER NAME**"
   ]
  },
  {
   "cell_type": "code",
   "execution_count": null,
   "id": "86c90267",
   "metadata": {},
   "outputs": [],
   "source": [
    "data.columns"
   ]
  },
  {
   "cell_type": "code",
   "execution_count": null,
   "id": "3a609dae",
   "metadata": {},
   "outputs": [],
   "source": [
    "manufacturing_lead_time = data.groupby('supplier_name')['manufacturing_lead_time'].sum().reset_index()\n",
    "\n",
    "plt.figure(figsize=(10, 6))\n",
    "ax = sns.barplot(x='supplier_name', y='manufacturing_lead_time', data=manufacturing_lead_time, palette='viridis')\n",
    "plt.title('Manufacturing Lead Time by Supplier Name')\n",
    "plt.xlabel('Supplier Name')\n",
    "plt.ylabel('Total Manufacturing Lead Time')\n",
    "plt.xticks(rotation=45)  # Rotate x-axis labels for better readability\n",
    "\n",
    "# Annotate the bars with value labels\n",
    "for p in ax.patches:\n",
    "    ax.annotate(f'{p.get_height():.2f}', (p.get_x() + p.get_width() / 2., p.get_height()), ha='center', va='baseline')\n",
    "\n",
    "# Show the chart\n",
    "plt.show()"
   ]
  },
  {
   "cell_type": "markdown",
   "id": "b84c18b6",
   "metadata": {},
   "source": [
    "**MANUFACTURING LEAD TIMES VARIATION AMONG DIFFERENT SUPPLIER**"
   ]
  },
  {
   "cell_type": "code",
   "execution_count": null,
   "id": "c5d4ead4",
   "metadata": {},
   "outputs": [],
   "source": [
    "\n",
    "\n",
    "# Create a box plot\n",
    "plt.figure(figsize=(12, 6))\n",
    "sns.boxplot(x='supplier_name', y='manufacturing_lead_time', data=data, palette='Set3')\n",
    "plt.title('Distribution of Manufacturing lead time Across Different Supplier')\n",
    "plt.xlabel('Supplier name')\n",
    "plt.ylabel('Manufacturing lead time')\n",
    "plt.xticks(rotation=45)\n",
    "plt.show()\n",
    "\n",
    "# Display tabulated data\n",
    "manufacturing_lead_time_supplier_name = data.groupby('supplier_name')['manufacturing_lead_time'].describe().reset_index()\n",
    "manufacturing_lead_time_supplier_name = manufacturing_lead_time_supplier_name.round(2)  # Round to two decimal places\n",
    "print(tabulate(manufacturing_lead_time_supplier_name, headers='keys', tablefmt='pretty', showindex=False))\n",
    "\n",
    "# Create a violin plot for a different perspective\n",
    "plt.figure(figsize=(12, 6))\n",
    "sns.violinplot(x='supplier_name', y='manufacturing_lead_time', data=data, palette='Set3')\n",
    "plt.title('Distribution of Manufacturing lead time Across Different Supplier (Violin Plot)')\n",
    "plt.xlabel('Supplier name')\n",
    "plt.ylabel('Manufacturing lead time')\n",
    "plt.xticks(rotation=45)\n",
    "plt.show()\n",
    "\n",
    "# Display tabulated data\n",
    "print(tabulate(manufacturing_lead_time_supplier_name, headers='keys', tablefmt='pretty', showindex=False))"
   ]
  },
  {
   "cell_type": "markdown",
   "id": "f363be38",
   "metadata": {},
   "source": [
    "\n",
    "\n",
    "FINDINGS:\n",
    "\n",
    "- **Supplier 1:** Supplier 1 has the lowest mean Manufacturing Lead Time (12.59) among all the suppliers, indicating that, on average, they take the least amount of time to manufacture their products. The standard deviation (8.43) suggests moderate variability in lead times.\n",
    "\n",
    "- **Supplier 2:** Supplier 2 has a slightly higher mean Manufacturing Lead Time (15.59) compared to Supplier 1. The standard deviation (8.20) indicates moderate variability in lead times.\n",
    "\n",
    "- **Supplier 3:** Supplier 3 has a mean Manufacturing Lead Time of 14.93, similar to Supplier 2, with a slightly higher standard deviation (9.62).\n",
    "\n",
    "- **Supplier 4:** Supplier 4 also has a mean Manufacturing Lead Time of 15.33, similar to Supplier 2 and 3, with a moderate standard deviation (9.53).\n",
    "\n",
    "- **Supplier 5:** Supplier 5 has the highest mean Manufacturing Lead Time (16.33) among all the suppliers, suggesting that, on average, they take the longest time to manufacture their products. The standard deviation (9.62) indicates moderate variability in lead times.\n",
    "\n",
    "\n",
    "\n"
   ]
  },
  {
   "cell_type": "markdown",
   "id": "7ed8b0a1",
   "metadata": {},
   "source": [
    "**SUPPLIER PERFORMANCE**"
   ]
  },
  {
   "cell_type": "code",
   "execution_count": null,
   "id": "1a0fd3c5",
   "metadata": {},
   "outputs": [],
   "source": [
    "data.columns"
   ]
  },
  {
   "cell_type": "code",
   "execution_count": null,
   "id": "1a7c18c6",
   "metadata": {
    "scrolled": true
   },
   "outputs": [],
   "source": [
    "\n",
    "supplier_performance = data.groupby('supplier_name').agg({\n",
    "    'lead_times': 'mean',\n",
    "    'manufacturing_costs': 'mean',\n",
    "    'manufacturing_lead_time':'mean',\n",
    "    'defect_rates':'mean'\n",
    "}).reset_index()\n",
    "\n",
    "\n",
    "weights = {'lead_times': 0.25, 'manufacturing_costs': 0.25,'manufacturing_lead_time':0.25,'defect_rates':0.25}\n",
    "supplier_performance['Supplier Score'] = (\n",
    "    supplier_performance['lead_times'] * weights['lead_times'] +\n",
    "    supplier_performance['manufacturing_costs'] * weights['manufacturing_costs'] +\n",
    "    supplier_performance['manufacturing_lead_time'] * weights['manufacturing_lead_time'] +\n",
    "    supplier_performance['defect_rates'] * weights['defect_rates']\n",
    ")\n",
    "\n",
    "\n",
    "supplier_performance = supplier_performance.sort_values(by='Supplier Score', ascending=True)\n",
    "\n",
    "\n",
    "print(\"Supplier Performance :\")\n",
    "print(supplier_performance.to_markdown(index=False))\n"
   ]
  },
  {
   "cell_type": "markdown",
   "id": "7769d408",
   "metadata": {},
   "source": [
    "FINDINGS:\n",
    "\n",
    "- **Supplier 1**: Supplier 1 has the longest average Manufacturing Lead Time (16.78) but the lowest Manufacturing Costs (45.25). This suggests that while they take more time to manufacture products, they are cost-effective. They also have the lowest Defect Rates (1.80) among all suppliers and a Supplier Score of 19.11.\n",
    "\n",
    "- **Supplier 2**: Supplier 2 has a slightly longer average Lead Time (16.23) compared to Supplier 1 but is still reasonable. Their Manufacturing Costs (41.62) and Manufacturing Lead Time (15.59) are in line with industry standards. They also have a decent Defect Rate (2.36) and a Supplier Score of 18.95.\n",
    "\n",
    "- **Supplier 3**: Supplier 3 has the lowest average Lead Times (14.33), suggesting they are relatively quick in fulfilling orders. Their Manufacturing Costs (43.63) and Manufacturing Lead Time (14.93) are reasonable. They also have an acceptable Defect Rate (2.47) and a Supplier Score of 18.84.\n",
    "\n",
    "- **Supplier 4**: Supplier 4 has a reasonable average Lead Time (17.00) and Manufacturing Costs (62.71), but their Manufacturing Lead Time (15.33) is also reasonable. They have a good Defect Rate (2.34) and Supplier Score (24.35).\n",
    "\n",
    "- **Supplier 5**: Supplier 5 has a shorter average Manufacturing Lead Time (16.33) but relatively high Manufacturing Costs (44.77). Their Defect Rates (2.67) are somewhat higher than others, and they have a Supplier Score of 19.62.\n",
    "\n",
    "\n",
    "\n",
    "\n"
   ]
  },
  {
   "cell_type": "markdown",
   "id": "dac40a86",
   "metadata": {},
   "source": [
    "**COST DISTRIBUTION BY TRANSPORTATION MODE**"
   ]
  },
  {
   "cell_type": "code",
   "execution_count": null,
   "id": "40c30c90",
   "metadata": {},
   "outputs": [],
   "source": [
    "transportation_chart = px.pie(data, \n",
    "                              values='costs', \n",
    "                              names='transportation_modes', \n",
    "                              title='Cost Distribution by Transportation Mode',\n",
    "                              hole=0.5,\n",
    "                              color_discrete_sequence=px.colors.qualitative.Pastel)\n",
    "transportation_chart.show()"
   ]
  },
  {
   "cell_type": "markdown",
   "id": "2e23c476",
   "metadata": {},
   "source": [
    "Findings: The company spends more on Road and Rail modes of transportation for the transportation of Goods."
   ]
  },
  {
   "cell_type": "markdown",
   "id": "dd728d4e",
   "metadata": {},
   "source": [
    "**COST VARIATION DISTRIBUTION BY DIFFERENT TRANSPORTATION MODES**"
   ]
  },
  {
   "cell_type": "code",
   "execution_count": null,
   "id": "b3e43973",
   "metadata": {},
   "outputs": [],
   "source": [
    "data.columns"
   ]
  },
  {
   "cell_type": "code",
   "execution_count": null,
   "id": "ad6ecf74",
   "metadata": {},
   "outputs": [],
   "source": [
    "\n",
    "\n",
    "# Create a box plot\n",
    "plt.figure(figsize=(12, 6))\n",
    "sns.boxplot(x='transportation_modes', y='costs', data=data, palette='Set3')\n",
    "plt.title('Distribution of Cost Across Different Transportation Modes')\n",
    "plt.xlabel('Transportation modes')\n",
    "plt.ylabel('Costs')\n",
    "plt.xticks(rotation=45)\n",
    "plt.show()\n",
    "\n",
    "# Display tabulated data\n",
    "cost_by_transportation_mode = data.groupby('transportation_modes')['costs'].describe().reset_index()\n",
    "cost_by_transportation_mode = cost_by_transportation_mode.round(2)  # Round to two decimal places\n",
    "print(tabulate(cost_by_transportation_mode, headers='keys', tablefmt='pretty', showindex=False))\n",
    "\n",
    "# Create a violin plot for a different perspective\n",
    "plt.figure(figsize=(12, 6))\n",
    "sns.violinplot(x='transportation_modes', y='costs', data=data, palette='Set3')\n",
    "plt.title('Distribution of Cost Across Different Transportation modes (Violin Plot)')\n",
    "plt.xlabel('Transportation modes')\n",
    "plt.ylabel('Costs')\n",
    "plt.xticks(rotation=45)\n",
    "plt.show()\n",
    "\n",
    "# Display tabulated data\n",
    "print(tabulate(cost_by_transportation_mode, headers='keys', tablefmt='pretty', showindex=False))"
   ]
  },
  {
   "cell_type": "markdown",
   "id": "a4c41e58",
   "metadata": {},
   "source": [
    "FINDINGS:\n",
    "\n",
    "- **Air**: Air transportation has the highest average cost ($561.71) \n",
    "\n",
    "among the modes, with a considerable standard deviation \n",
    "\n",
    "($271.66), indicating cost variability. While it offers speed, it comes at a higher cost.\n",
    "\n",
    "- **Rail**: Rail transportation has a similar average cost ($541.75) to air but with slightly less cost variability. It can be a balance between cost and speed.\n",
    "\n",
    "- **Road**: Road transportation also has a similar average cost ($553.39) to air and rail. It offers moderate cost variability and is suitable for various shipping needs.\n",
    "\n",
    "- **Sea**: Sea transportation is notably less expensive, with an average cost of $417.82. While it has some cost variability, it is a cost-effective option for bulk or international shipping.\n",
    "\n",
    "Choosing the Best Transportation Mode:\n",
    "\n",
    "The choice of the best transportation mode depends on various factors, including cost, speed, reliability, and specific business  requirements. If cost is the primary concern, sea transportation appears to be the most cost-effective option on average. \n"
   ]
  },
  {
   "cell_type": "markdown",
   "id": "bb066ad4",
   "metadata": {},
   "source": [
    "**SHIPPING CARRIER BY SUPPLIER NAME**"
   ]
  },
  {
   "cell_type": "code",
   "execution_count": null,
   "id": "0ef1becd",
   "metadata": {},
   "outputs": [],
   "source": [
    "shipping_carrier_df = data[['supplier_name', 'shipping_carriers']].copy()\n",
    "\n",
    "\n",
    "shipping_carrier_df['shipping_carriers'] = shipping_carrier_df['shipping_carriers'].str.split(',')\n",
    "\n",
    "\n",
    "shipping_carrier_df = shipping_carrier_df.explode('shipping_carriers')\n",
    "\n",
    "\n",
    "shipping_carrier_table = pd.crosstab(shipping_carrier_df['supplier_name'], shipping_carrier_df['shipping_carriers'], margins=True, margins_name=\"Total\")\n",
    "\n",
    "\n",
    "print(tabulate(shipping_carrier_table, headers='keys', tablefmt='pretty', showindex=True))"
   ]
  },
  {
   "cell_type": "code",
   "execution_count": null,
   "id": "14bd93d4",
   "metadata": {},
   "outputs": [],
   "source": []
  },
  {
   "cell_type": "code",
   "execution_count": null,
   "id": "b3b7a49f",
   "metadata": {},
   "outputs": [],
   "source": []
  },
  {
   "cell_type": "markdown",
   "id": "e3977c1b",
   "metadata": {},
   "source": [
    "**TRANSPORTATION MODES USED BY SUPPLIERS**"
   ]
  },
  {
   "cell_type": "code",
   "execution_count": null,
   "id": "b151281c",
   "metadata": {},
   "outputs": [],
   "source": [
    "\n",
    "transportation_df = data[['supplier_name', 'transportation_modes']].copy()\n",
    "\n",
    "\n",
    "transportation_df['transportation_modes'] = transportation_df['transportation_modes'].str.split(',')\n",
    "\n",
    "\n",
    "transportation_df = transportation_df.explode('transportation_modes')\n",
    "\n",
    "\n",
    "transportation_table = pd.crosstab(transportation_df['supplier_name'], transportation_df['transportation_modes'], margins=True, margins_name=\"Total\")\n",
    "\n",
    "\n",
    "print(tabulate(transportation_table, headers='keys', tablefmt='pretty', showindex=True))"
   ]
  },
  {
   "cell_type": "markdown",
   "id": "71787cc6",
   "metadata": {},
   "source": [
    "**TRANSPORTATION MODES USED BY SHIPPING CARRIERS**"
   ]
  },
  {
   "cell_type": "code",
   "execution_count": null,
   "id": "2f11fd41",
   "metadata": {},
   "outputs": [],
   "source": [
    "data.columns"
   ]
  },
  {
   "cell_type": "code",
   "execution_count": null,
   "id": "da4eeba9",
   "metadata": {},
   "outputs": [],
   "source": [
    "shipping_df = data[['shipping_carriers', 'transportation_modes']].copy()\n",
    "\n",
    "\n",
    "shipping_df['transportation_modes'] = shipping_df['transportation_modes'].str.split(',')\n",
    "\n",
    "\n",
    "shipping_df = shipping_df.explode('transportation_modes')\n",
    "\n",
    "\n",
    "shipping_table = pd.crosstab(shipping_df['shipping_carriers'], transportation_df['transportation_modes'], margins=True, margins_name=\"Total\")\n",
    "\n",
    "\n",
    "print(tabulate(shipping_table, headers='keys', tablefmt='pretty', showindex=True))"
   ]
  },
  {
   "cell_type": "markdown",
   "id": "2c53eac7",
   "metadata": {},
   "source": [
    "**TRANSPORTATION MODES AND SHIPPING CARRIER USED BY SUPPLIER**"
   ]
  },
  {
   "cell_type": "code",
   "execution_count": null,
   "id": "ed781945",
   "metadata": {},
   "outputs": [],
   "source": [
    "\n",
    "\n",
    "\n",
    "supplier_transportation = data[['supplier_name', 'transportation_modes', 'shipping_carriers']].copy()\n",
    "\n",
    "\n",
    "supplier_transportation['Transportation modes'] = supplier_transportation['transportation_modes'].str.split(',')\n",
    "\n",
    "\n",
    "supplier_transportation = supplier_transportation.explode('transportation_modes')\n",
    "\n",
    "\n",
    "pivot_table = pd.pivot_table(supplier_transportation, index='supplier_name', columns=['transportation_modes', 'shipping_carriers'], aggfunc=len, fill_value=0)\n",
    "\n",
    "\n",
    "print(pivot_table)\n"
   ]
  },
  {
   "cell_type": "markdown",
   "id": "65866976",
   "metadata": {},
   "source": [
    "# FEATURE ENGINEERING"
   ]
  },
  {
   "cell_type": "markdown",
   "id": "57c5410c",
   "metadata": {},
   "source": [
    "**INSERT SUPPLIER SCORE COLUMN**"
   ]
  },
  {
   "cell_type": "code",
   "execution_count": null,
   "id": "fcee3fad",
   "metadata": {},
   "outputs": [],
   "source": [
    "weights = {'Lead times': 0.25, 'Manufacturing costs': 0.25,'Manufacturing lead time':0.25,'Defect rates':0.25}\n",
    "data['supplier_score'] = (\n",
    "    data['lead_times'] * weights['Lead times'] +\n",
    "    data['manufacturing_costs'] * weights['Manufacturing costs'] +\n",
    "    data['manufacturing_lead_time'] * weights['Manufacturing lead time'] +\n",
    "    data['defect_rates'] * weights['Defect rates']\n",
    ")\n"
   ]
  },
  {
   "cell_type": "code",
   "execution_count": null,
   "id": "ce1b05f8",
   "metadata": {},
   "outputs": [],
   "source": [
    "data.columns"
   ]
  },
  {
   "cell_type": "code",
   "execution_count": null,
   "id": "e084a38d",
   "metadata": {},
   "outputs": [],
   "source": [
    "data = data[['product_type', 'sku', 'price', 'availability', 'num_products_sold',\n",
    "       'revenue_generated', 'customer_demographics', 'stock_levels',\n",
    "       'lead_times', 'order_quantities', 'shipping_times', 'shipping_carriers',\n",
    "       'shipping_costs', 'supplier_name', 'location', 'lead_time',\n",
    "       'production_volumes', 'manufacturing_lead_time', 'manufacturing_costs',\n",
    "       'inspection_results', 'defect_rates','supplier_score', 'transportation_modes', 'routes',\n",
    "       'costs' ]]"
   ]
  },
  {
   "cell_type": "code",
   "execution_count": null,
   "id": "e72caf00",
   "metadata": {},
   "outputs": [],
   "source": [
    "data.sample(5)"
   ]
  },
  {
   "cell_type": "code",
   "execution_count": null,
   "id": "1a10ac13",
   "metadata": {},
   "outputs": [],
   "source": [
    "supplier_score_summary = pd.DataFrame({\n",
    "    'Column': ['supplier_score'],\n",
    "    'Non-Null Count': [data['supplier_score'].count()],\n",
    "    'NaN Count': [data['supplier_score'].isnull().sum()],\n",
    "    'Dtype': [data['supplier_score'].dtype]\n",
    "})\n",
    "\n",
    "print(tabulate(supplier_score_summary, headers='keys', tablefmt='fancy_grid', showindex='never'))\n"
   ]
  },
  {
   "cell_type": "code",
   "execution_count": null,
   "id": "304bb9bf",
   "metadata": {
    "scrolled": false
   },
   "outputs": [],
   "source": [
    "\n",
    "\n",
    "plt.figure(figsize=(12, 8))\n",
    "sns.heatmap(data.corr(), annot=True, cmap='coolwarm', fmt=\".2f\")\n",
    "plt.title('Correlation Heatmap')\n",
    "\n",
    "\n",
    "plt.show()\n",
    "\n",
    "\n",
    "correlation_matrix = data.corr()\n",
    "\n",
    "\n",
    "positive_threshold = 0.5\n",
    "negative_threshold = -0.5\n",
    "\n",
    "\n",
    "positive_correlations = []\n",
    "negative_correlations = []\n",
    "weak_correlations = []\n",
    "\n",
    "\n",
    "for i in range(len(correlation_matrix.columns)):\n",
    "    for j in range(i + 1, len(correlation_matrix.columns)):\n",
    "        correlation = correlation_matrix.iloc[i, j]\n",
    "        column1 = correlation_matrix.columns[i]\n",
    "        column2 = correlation_matrix.columns[j]\n",
    "\n",
    "        if correlation > positive_threshold:\n",
    "            positive_correlations.append((column1, column2, correlation))\n",
    "        elif correlation < negative_threshold:\n",
    "            negative_correlations.append((column1, column2, correlation))\n",
    "        else:\n",
    "            weak_correlations.append((column1, column2, correlation))\n",
    "\n",
    "\n",
    "positive_table = tabulate(positive_correlations, headers=['Column 1', 'Column 2', 'Correlation'], tablefmt='fancy_grid')\n",
    "negative_table = tabulate(negative_correlations, headers=['Column 1', 'Column 2', 'Correlation'], tablefmt='fancy_grid')\n",
    "weak_table = tabulate(weak_correlations, headers=['Column 1', 'Column 2', 'Correlation'], tablefmt='fancy_grid')\n",
    "\n",
    "\n",
    "print(\"\\nPairs with Positive Correlation:\")\n",
    "print(positive_table)\n",
    "print(\"\\nPairs with Negative Correlation:\")\n",
    "print(negative_table)\n",
    "print(\"\\nPairs with Weak Correlation:\")\n",
    "print(weak_table)\n"
   ]
  },
  {
   "cell_type": "markdown",
   "id": "b36acbd6",
   "metadata": {},
   "source": [
    "**ORDINAL ENCODING**"
   ]
  },
  {
   "cell_type": "code",
   "execution_count": null,
   "id": "64f767c4",
   "metadata": {},
   "outputs": [],
   "source": [
    "data_scaled = data.copy()"
   ]
  },
  {
   "cell_type": "code",
   "execution_count": null,
   "id": "1fe4a742",
   "metadata": {},
   "outputs": [],
   "source": [
    "\n",
    "object_columns = data_scaled.select_dtypes(include=['object']).columns\n",
    "\n",
    "\n",
    "for col in object_columns:\n",
    "    data_scaled = pd.get_dummies(data_scaled, columns=[col])\n",
    "\n",
    "\n"
   ]
  },
  {
   "cell_type": "code",
   "execution_count": null,
   "id": "81893561",
   "metadata": {
    "scrolled": false
   },
   "outputs": [],
   "source": [
    "data_scaled.head(10)"
   ]
  },
  {
   "cell_type": "code",
   "execution_count": null,
   "id": "a30bcb36",
   "metadata": {
    "scrolled": false
   },
   "outputs": [],
   "source": [
    "# Get the column names as a list\n",
    "column_names = data_scaled.columns.tolist()\n",
    "\n",
    "# Print all column names\n",
    "for col in column_names:\n",
    "    print(col)\n"
   ]
  },
  {
   "cell_type": "code",
   "execution_count": null,
   "id": "3b1b83eb",
   "metadata": {
    "scrolled": false
   },
   "outputs": [],
   "source": [
    "info_data = pd.DataFrame({\n",
    "    'Column': data_scaled.columns,\n",
    "    'Non-Null Count': data_scaled.count().values,\n",
    "    'NaN Count': data_scaled.isnull().sum().values,  # Add a comma here\n",
    "    'Dtype': data_scaled.dtypes.values\n",
    "})\n",
    "\n",
    "print(tabulate(info_data, headers='keys', tablefmt='fancy_grid'))"
   ]
  },
  {
   "cell_type": "markdown",
   "id": "eb939884",
   "metadata": {},
   "source": [
    "**SCALING DATA**"
   ]
  },
  {
   "cell_type": "code",
   "execution_count": null,
   "id": "9f8b7f9c",
   "metadata": {},
   "outputs": [],
   "source": [
    "\n",
    "X = data_scaled.drop(columns=['supplier_score'])\n",
    "y = data_scaled['supplier_score']\n",
    "\n",
    "\n",
    "scaler = StandardScaler()\n",
    "\n",
    "\n",
    "X = scaler.fit_transform(X)\n",
    "\n",
    "\n"
   ]
  },
  {
   "cell_type": "code",
   "execution_count": null,
   "id": "0b23d697",
   "metadata": {},
   "outputs": [],
   "source": [
    "data_scaled.sample(10)"
   ]
  },
  {
   "cell_type": "code",
   "execution_count": null,
   "id": "0915d3e6",
   "metadata": {
    "scrolled": false
   },
   "outputs": [],
   "source": [
    "info_data = pd.DataFrame({\n",
    "    'Column': data_scaled.columns,\n",
    "    'Non-Null Count': data_scaled.count().values,\n",
    "    'NaN Count': data_scaled.isnull().sum().values,  # Add a comma here\n",
    "    'Dtype': data_scaled.dtypes.values\n",
    "})\n",
    "\n",
    "print(tabulate(info_data, headers='keys', tablefmt='fancy_grid'))"
   ]
  },
  {
   "cell_type": "code",
   "execution_count": null,
   "id": "bdb0e758",
   "metadata": {
    "scrolled": false
   },
   "outputs": [],
   "source": [
    "# Get the column names as a list\n",
    "column_names = data_scaled.columns.tolist()\n",
    "\n",
    "# Print all column names\n",
    "for col in column_names:\n",
    "    print(col)\n"
   ]
  },
  {
   "cell_type": "code",
   "execution_count": null,
   "id": "96077be4",
   "metadata": {},
   "outputs": [],
   "source": []
  },
  {
   "cell_type": "markdown",
   "id": "51cc00c4",
   "metadata": {},
   "source": [
    "# MACHINE LEARNING TRAINING"
   ]
  },
  {
   "cell_type": "code",
   "execution_count": null,
   "id": "6b724f76",
   "metadata": {
    "scrolled": false
   },
   "outputs": [],
   "source": [
    "\n",
    "\n",
    "\n",
    "X = data_scaled.drop('supplier_score', axis=1)\n",
    "y = data_scaled['supplier_score']\n",
    "\n",
    "\n",
    "X_train, X_test, y_train, y_test = train_test_split(X, y, test_size=0.2, random_state=42)\n",
    "\n",
    "\n",
    "models = {\n",
    "    'Linear Regression': LinearRegression(),\n",
    "    'LassoLars': LassoLars(),\n",
    "    'ElasticNet': ElasticNet(),\n",
    "    'Ridge': Ridge(),\n",
    "    'BayesianRidge': BayesianRidge(),\n",
    "    'HuberRegressor': HuberRegressor(),\n",
    "    'SGDRegressor': SGDRegressor(),\n",
    "    'Decision Tree': DecisionTreeRegressor(),\n",
    "    'Extra Tree': ExtraTreeRegressor(),\n",
    "    'SVR': SVR(),\n",
    "    'NuSVR': NuSVR(),\n",
    "    'KNeighborsRegressor': KNeighborsRegressor(),\n",
    "    'GaussianProcessRegressor': GaussianProcessRegressor(),\n",
    "    'KernelRidge': KernelRidge(),\n",
    "    'MLPRegressor': MLPRegressor(),\n",
    "    'DummyRegressor': DummyRegressor(),\n",
    "    'Random Forest': RandomForestRegressor(),\n",
    "    'AdaBoostRegressor': AdaBoostRegressor(),\n",
    "    'Bagging Regressor': BaggingRegressor(),\n",
    "    'Gradient Boosting': GradientBoostingRegressor(),\n",
    "    'Extra Trees': ExtraTreesRegressor(),\n",
    "    'Hist Gradient Boosting': HistGradientBoostingRegressor(),\n",
    "    'ElasticNetCV': ElasticNetCV(),\n",
    "    'LassoCV': LassoCV(),\n",
    "    'OrthogonalMatchingPursuit': OrthogonalMatchingPursuit(),\n",
    "    'OrthogonalMatchingPursuitCV': OrthogonalMatchingPursuitCV(),\n",
    "    'LassoLarsCV': LassoLarsCV(),\n",
    "    'LarsCV': LarsCV(),\n",
    "    'Lars': Lars(),\n",
    "    'RidgeCV': RidgeCV(),\n",
    "    'LinearSVR': LinearSVR(),\n",
    "    'PassiveAggressiveRegressor': PassiveAggressiveRegressor(),\n",
    "    'TransformedTargetRegressor': TransformedTargetRegressor(),\n",
    "    'XGBoost': XGBRegressor(),\n",
    "    'LightGBM': LGBMRegressor()\n",
    "}\n",
    "\n",
    "\n",
    "mae_dict = {}\n",
    "rmse_dict = {}\n",
    "r2_dict = {}\n",
    "adjusted_r2_dict = {}\n",
    "mape_dict = {}\n",
    "max_error_dict = {}\n",
    "\n",
    "\n",
    "for model_name, model in models.items():\n",
    "    model.fit(X_train, y_train)\n",
    "    y_pred = model.predict(X_test)\n",
    "\n",
    "    mae = mean_absolute_error(y_test, y_pred)\n",
    "    mse = mean_squared_error(y_test, y_pred)\n",
    "    rmse = np.sqrt(mse)\n",
    "    r2 = r2_score(y_test, y_pred)\n",
    "    \n",
    "    \n",
    "    n = len(X_test)\n",
    "    p = X_test.shape[1]\n",
    "    adjusted_r2 = 1 - (1 - r2) * ((n - 1) / (n - p - 1))\n",
    "\n",
    "    mape = mean_absolute_percentage_error(y_test, y_pred)\n",
    "    max_err = max_error(y_test, y_pred)\n",
    "\n",
    "    \n",
    "    mae_dict[model_name] = mae\n",
    "    rmse_dict[model_name] = rmse\n",
    "    r2_dict[model_name] = r2\n",
    "    adjusted_r2_dict[model_name] = adjusted_r2\n",
    "    mape_dict[model_name] = mape\n",
    "    max_error_dict[model_name] = max_err\n",
    "\n",
    "\n",
    "for model_name in models.keys():\n",
    "    print(f\"Model: {model_name}\")\n",
    "    print(f\"MAE: {mae_dict[model_name]:.2f}\")\n",
    "    print(f\"RMSE: {rmse_dict[model_name]:.2f}\")\n",
    "    print(f\"R^2: {r2_dict[model_name]:.2f}\")\n",
    "    print(f\"Adjusted R^2: {adjusted_r2_dict[model_name]:.2f}\")\n",
    "    print(f\"MAPE: {mape_dict[model_name]:.2f}\")\n",
    "    print(f\"Max Error: {max_error_dict[model_name]:.2f}\")\n",
    "    print()\n"
   ]
  },
  {
   "cell_type": "markdown",
   "id": "cfd36dc3",
   "metadata": {},
   "source": [
    "# Supply Chain Supplier Score Prediction Report\n",
    "\n",
    "In this analysis, we applied various machine learning models to predict Supplier Scores in the context of the supply chain. The goal was to identify the best-performing model for accurate score predictions. Below are the key findings and insights:\n",
    "\n",
    "## Model Evaluation Metrics\n",
    "\n",
    "We evaluated the models using several performance metrics:\n",
    "\n",
    "- **MAE (Mean Absolute Error):** Measures the average absolute difference between actual and predicted scores. Lower MAE indicates better performance.\n",
    "- **RMSE (Root Mean Squared Error):** Represents the square root of the average squared differences between actual and predicted scores.\n",
    "- **R^2 (Coefficient of Determination):** Measures the proportion of the variance in the dependent variable (Supplier Scores) that is predictable from the independent variables (features). Higher R^2 indicates a better fit to the data.\n",
    "- **Adjusted R^2:** An adjusted version of R^2 that considers the number of predictors. It penalizes model complexity.\n",
    "- **MAPE (Mean Absolute Percentage Error):** Measures the average percentage difference between actual and predicted scores.\n",
    "- **Max Error:** The maximum absolute error observed in predictions.\n",
    "\n",
    "## Model Performance Summary\n",
    "\n",
    "Here is a summary of the model performances:\n",
    "\n",
    "### Top-Performing Models\n",
    "\n",
    "1. **TransformedTargetRegressor:**\n",
    "   - MAE: 0.01\n",
    "   - RMSE: 0.01\n",
    "   - R^2: 1.00\n",
    "   - MAPE: 0.00\n",
    "   - Max Error: 0.02\n",
    "   - Insight: This model stands out as the best performer, providing highly accurate predictions with minimal error.\n",
    "\n",
    "2. **ElasticNet:**\n",
    "   - MAE: 0.32\n",
    "   - RMSE: 0.39\n",
    "   - R^2: 1.00\n",
    "   - MAPE: 0.02\n",
    "   - Max Error: 0.80\n",
    "   - Insight: ElasticNet also delivers outstanding performance with low errors and a perfect R^2 value.\n",
    "\n",
    "3. **Ridge:**\n",
    "   - MAE: 0.01\n",
    "   - RMSE: 0.01\n",
    "   - R^2: 1.00\n",
    "   - MAPE: 0.00\n",
    "   - Max Error: 0.03\n",
    "   - Insight: Ridge regression exhibits excellent results, on par with the best models.\n",
    "\n",
    "4. **Linear Regression:**\n",
    "   - MAE: 0.01\n",
    "   - RMSE: 0.01\n",
    "   - R^2: 1.00\n",
    "   - MAPE: 0.00\n",
    "   - Max Error: 0.02\n",
    "   - Insight: Linear regression, despite its simplicity, demonstrates strong performance in providing accurate predictions.\n",
    "\n",
    "### Conclusion and Recommendations\n",
    "\n",
    "In the context of predicting Supplier Scores in the supply chain, the following models have shown exceptional performance:\n",
    "\n",
    "- TransformedTargetRegressor\n",
    "- ElasticNet\n",
    "- Ridge\n",
    "- Linear Regression\n",
    "\n",
    "These models consistently provide accurate predictions with minimal errors, making them ideal choices for Supplier Score prediction tasks. The final selection should also consider factors such as ease of implementation and interpretability.\n",
    "\n",
    "To make a final decision, it's advisable to conduct further cross-validation and testing on a hold-out dataset to ensure that the selected model generalizes well to real-world scenarios.\n",
    "\n",
    "This report summarizes our findings and serves as a reference for selecting the most suitable model for your Supplier Score prediction needs in the supply chain.\n",
    "\n"
   ]
  },
  {
   "cell_type": "markdown",
   "id": "473049fe",
   "metadata": {},
   "source": [
    "# PICKLING THE MODEL FILE FOR DEPLOYMENT"
   ]
  },
  {
   "cell_type": "code",
   "execution_count": null,
   "id": "e6ae253b",
   "metadata": {},
   "outputs": [],
   "source": [
    "#import pickle\n",
    "\n",
    "# Dictionary of models\n",
    "#best_models = {\n",
    "#    'TransformedTargetRegressor': TransformedTargetRegressor(),\n",
    "#    'ElasticNet': ElasticNet(),\n",
    "#    'Ridge': Ridge(),\n",
    "#    'Linear Regression': LinearRegression()\n",
    "#}\n",
    "\n",
    "# Save all the best models using pickle\n",
    "#for model_name, model in best_models.items():\n",
    "#    filename = f'{model_name}_model.pkl'\n",
    "#    with open(filename, 'wb') as file:\n",
    "#        pickle.dump(model, file)\n",
    "#    print(f\"{model_name} model saved as {filename}\")\n",
    "\n",
    "#print(\"All best models saved successfully.\")\n"
   ]
  },
  {
   "cell_type": "code",
   "execution_count": null,
   "id": "d25880de",
   "metadata": {},
   "outputs": [],
   "source": [
    "\n",
    "#file_path = 'scaler.pkl'\n",
    "\n",
    "# Open the file in binary write mode and save the scaler\n",
    "#with open(file_path, 'wb') as file:\n",
    "#    pickle.dump(scaler, file)\n"
   ]
  },
  {
   "cell_type": "code",
   "execution_count": null,
   "id": "14b7b637",
   "metadata": {},
   "outputs": [],
   "source": []
  }
 ],
 "metadata": {
  "kernelspec": {
   "display_name": "Python 3 (ipykernel)",
   "language": "python",
   "name": "python3"
  },
  "language_info": {
   "codemirror_mode": {
    "name": "ipython",
    "version": 3
   },
   "file_extension": ".py",
   "mimetype": "text/x-python",
   "name": "python",
   "nbconvert_exporter": "python",
   "pygments_lexer": "ipython3",
   "version": "3.9.12"
  }
 },
 "nbformat": 4,
 "nbformat_minor": 5
}
